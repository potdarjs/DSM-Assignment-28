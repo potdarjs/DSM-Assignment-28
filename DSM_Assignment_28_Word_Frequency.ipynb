{
  "nbformat": 4,
  "nbformat_minor": 0,
  "metadata": {
    "colab": {
      "name": "DSM Assignment 28 Word Frequency",
      "version": "0.3.2",
      "provenance": [],
      "collapsed_sections": [],
      "include_colab_link": true
    },
    "kernelspec": {
      "display_name": "Python 3",
      "language": "python",
      "name": "python3"
    }
  },
  "cells": [
    {
      "cell_type": "markdown",
      "metadata": {
        "id": "view-in-github",
        "colab_type": "text"
      },
      "source": [
        "<a href=\"https://colab.research.google.com/github/potdarjs/DSM-Assignment-28/blob/master/DSM_Assignment_28_Word_Frequency.ipynb\" target=\"_parent\"><img src=\"https://colab.research.google.com/assets/colab-badge.svg\" alt=\"Open In Colab\"/></a>"
      ]
    },
    {
      "metadata": {
        "id": "AnBsUbhtOdyw",
        "colab_type": "text"
      },
      "cell_type": "markdown",
      "source": [
        "# Assignment 28 - Data Science Masters"
      ]
    },
    {
      "metadata": {
        "id": "p7NiQezpOkIQ",
        "colab_type": "text"
      },
      "cell_type": "markdown",
      "source": [
        "## Find Frequency of Words in a Webpage"
      ]
    },
    {
      "metadata": {
        "id": "pyA6i-GjOWyJ",
        "colab_type": "text"
      },
      "cell_type": "markdown",
      "source": [
        "# Import Libraries"
      ]
    },
    {
      "metadata": {
        "ExecuteTime": {
          "end_time": "2018-08-25T19:20:40.085333Z",
          "start_time": "2018-08-25T19:20:38.952290Z"
        },
        "id": "ye-fuu_aOWyL",
        "colab_type": "code",
        "colab": {}
      },
      "cell_type": "code",
      "source": [
        "from bs4 import BeautifulSoup\n",
        "import urllib.request\n",
        "import string\n",
        "import nltk\n",
        "from collections import Counter\n",
        "import matplotlib.pyplot as plt\n",
        "import nltk"
      ],
      "execution_count": 0,
      "outputs": []
    },
    {
      "metadata": {
        "ExecuteTime": {
          "end_time": "2018-08-24T12:14:11.810575Z",
          "start_time": "2018-08-24T12:14:11.805794Z"
        },
        "id": "EJs3e-CAOWyO",
        "colab_type": "text"
      },
      "cell_type": "markdown",
      "source": [
        "# Get Raw Text"
      ]
    },
    {
      "metadata": {
        "ExecuteTime": {
          "end_time": "2018-08-25T19:20:41.382565Z",
          "start_time": "2018-08-25T19:20:40.088267Z"
        },
        "id": "SpeKL_VsOWyQ",
        "colab_type": "code",
        "colab": {}
      },
      "cell_type": "code",
      "source": [
        "response = urllib.request.urlopen('http://php.net/')\n",
        "html = response.read()\n",
        "soup = BeautifulSoup(html,\"html5lib\")"
      ],
      "execution_count": 0,
      "outputs": []
    },
    {
      "metadata": {
        "ExecuteTime": {
          "end_time": "2018-08-25T19:20:41.397528Z",
          "start_time": "2018-08-25T19:20:41.383543Z"
        },
        "id": "kaKLnQJLOWyT",
        "colab_type": "code",
        "colab": {
          "base_uri": "https://localhost:8080/",
          "height": 70
        },
        "outputId": "8f59b032-a57f-4356-82f5-4e363981bb80"
      },
      "cell_type": "code",
      "source": [
        "text = soup.getText()\n",
        "print(len(text))\n",
        "text[:10000]"
      ],
      "execution_count": 3,
      "outputs": [
        {
          "output_type": "stream",
          "text": [
            "28678\n"
          ],
          "name": "stdout"
        },
        {
          "output_type": "execute_result",
          "data": {
            "text/plain": [
              "\"\\n\\n  \\n  \\n\\n  PHP: Hypertext Preprocessor\\n\\n \\n \\n \\n \\n\\n \\n \\n \\n\\n\\n\\n\\n\\n\\n\\n\\n\\n \\n\\n \\n\\n \\n\\n \\n\\n \\n\\n\\n\\n\\n\\n  \\n    \\n    \\n    \\n    \\n      Downloads\\n      Documentation\\n      Get Involved\\n      Help\\n    \\n    \\n      \\n      \\n    \\n  \\n  \\n\\n\\nGetting Started\\n\\tIntroduction\\n\\tA simple tutorial\\nLanguage Reference\\n\\tBasic syntax\\n\\tTypes\\n\\tVariables\\n\\tConstants\\n\\tExpressions\\n\\tOperators\\n\\tControl Structures\\n\\tFunctions\\n\\tClasses and Objects\\n\\tNamespaces\\n\\tErrors\\n\\tExceptions\\n\\tGenerators\\n\\tReferences Explained\\n\\tPredefined Variables\\n\\tPredefined Exceptions\\n\\tPredefined Interfaces and Classes\\n\\tContext options and parameters\\n\\tSupported Protocols and Wrappers\\n\\n\\nSecurity\\n\\tIntroduction\\n\\tGeneral considerations\\n\\tInstalled as CGI binary\\n\\tInstalled as an Apache module\\n\\tSession Security\\n\\tFilesystem Security\\n\\tDatabase Security\\n\\tError Reporting\\n\\tUsing Register Globals\\n\\tUser Submitted Data\\n\\tMagic Quotes\\n\\tHiding PHP\\n\\tKeeping Current\\nFeatures\\n\\tHTTP authentication with PHP\\n\\tCookies\\n\\tSessions\\n\\tDealing with XForms\\n\\tHandling file uploads\\n\\tUsing remote files\\n\\tConnection handling\\n\\tPersistent Database Connections\\n\\tSafe Mode\\n\\tCommand line usage\\n\\tGarbage Collection\\n\\tDTrace Dynamic Tracing\\n\\n\\nFunction Reference\\n\\tAffecting PHP's Behaviour\\n\\tAudio Formats Manipulation\\n\\tAuthentication Services\\n\\tCommand Line Specific Extensions\\n\\tCompression and Archive Extensions\\n\\tCredit Card Processing\\n\\tCryptography Extensions\\n\\tDatabase Extensions\\n\\tDate and Time Related Extensions\\n\\tFile System Related Extensions\\n\\tHuman Language and Character Encoding Support\\n\\tImage Processing and Generation\\n\\tMail Related Extensions\\n\\tMathematical Extensions\\n\\tNon-Text MIME Output\\n\\tProcess Control Extensions\\n\\tOther Basic Extensions\\n\\tOther Services\\n\\tSearch Engine Extensions\\n\\tServer Specific Extensions\\n\\tSession Extensions\\n\\tText Processing\\n\\tVariable and Type Related Extensions\\n\\tWeb Services\\n\\tWindows Only Extensions\\n\\tXML Manipulation\\n\\tGUI Extensions\\n\\n\\nKeyboard Shortcuts?\\nThis help\\nj\\nNext menu item\\nk\\nPrevious menu item\\ng p\\nPrevious man page\\ng n\\nNext man page\\nG\\nScroll to bottom\\ng g\\nScroll to top\\ng h\\nGoto homepage\\ng s\\nGoto search(current page)\\n/\\nFocus search box\\n\\n\\n    \\n         \\n         \\n   \\n\\n\\n\\n\\n\\n  \\n      \\n    \\n      PHP is a popular general-purpose scripting language that is especially suited to web development.\\n      Fast, flexible and pragmatic, PHP powers everything from your blog to the most popular websites in the world.\\n    \\n    \\n      Download\\n\\n            5.6.40·Release Notes·Upgrading\\n\\n            7.1.26·Release Notes·Upgrading\\n\\n            7.2.14·Release Notes·Upgrading\\n\\n            7.3.1·Release Notes·Upgrading\\n\\n    \\n    \\n\\n\\n\\n\\n  \\n\\n  \\n    10 Jan 2019\\n    \\n      PHP 5.6.40 Released\\n    \\n  \\n  \\n    \\n     The PHP development team announces the immediate availability of PHP\\n     5.6.40. This is a security release. Several security bugs have been fixed\\n     in this release.\\n\\n     All PHP 5.6 users are encouraged to upgrade to this version.\\n     \\n\\n     For source downloads of PHP 5.6.40 please visit our downloads page,\\n     Windows source and binaries can be found on windows.php.net/download/.\\n     The list of changes is recorded in the ChangeLog.\\n     \\n\\n     Please note that according to the PHP version\\nsupport timelines,\\n        PHP 5.6.40 is the last scheduled release of PHP 5.6 branch. There may be additional release if we\\ndiscover\\n        important security issues that warrant it, otherwise this release will be the final one in the PHP\\n5.6 branch.\\n        If your PHP installation is based on PHP 5.6, it may be a good time to start making the plans for\\nthe upgrade\\n        to PHP 7.1, PHP 7.2 or PHP 7.3.\\n     \\n    \\n  \\n  \\n\\n  \\n    10 Jan 2019\\n    \\n      PHP 7.1.26 Release Announcement\\n    \\n  \\n  \\n    \\n       The PHP development team announces the immediate availability of PHP\\n       7.1.26. This is a security release which also contains several bug fixes.\\n     \\n       All PHP 7.1 users are encouraged to upgrade to this version.\\n     \\n       For source downloads of PHP 7.1.26 please visit our downloads page,\\n       Windows source and binaries can be found on windows.php.net/download/.\\n       The list of changes is recorded in the ChangeLog.\\n       \\n    \\n  \\n  \\n\\n  \\n    10 Jan 2019\\n    \\n      PHP 7.3.1 Released\\n    \\n  \\n  \\n    \\n      The PHP development team announces the immediate availability of PHP\\n      7.3.1. This is a security release which also contains several bug fixes.\\n\\n      All PHP 7.3 users are encouraged to upgrade to this version.\\n\\n      For source downloads of PHP 7.3.1 please visit our downloads page,\\n      Windows source and binaries can be found on windows.php.net/download/.\\n      The list of changes is recorded in the ChangeLog.\\n      \\n    \\n  \\n  \\n\\n  \\n    10 Jan 2019\\n    \\n      PHP 7.2.14 Released\\n    \\n  \\n  \\n    \\n     The PHP development team announces the immediate availability of PHP\\n     7.2.14. This is a security release which also contains several minor bug fixes.\\n\\n     All PHP 7.2 users are encouraged to upgrade to this version.\\n\\n     For source downloads of PHP 7.2.14 please visit our downloads page,\\n     Windows source and binaries can be found on windows.php.net/download/.\\n     The list of changes is recorded in the ChangeLog.\\n     \\n    \\n  \\n  \\n\\n  \\n    06 Dec 2018\\n    \\n      PHP 7.0.33 Released\\n    \\n  \\n  \\n    \\n      The PHP development team announces the immediate availability of PHP\\n         7.0.33. Five security-related issues were fixed in this release.\\n         All PHP 7.0 users are encouraged to upgrade to this version.\\n      \\n\\n      For source downloads of PHP 7.0.33 please visit our downloads page,\\n         Windows source and binaries can be found on windows.php.net/download/.\\n         The list of changes is recorded in the ChangeLog.\\n      \\n\\n      Please note that according to the PHP version support timelines,\\n         PHP 7.0.33 is the last scheduled release of PHP 7.0 branch. There may be additional release if we discover\\n         important security issues that warrant it, otherwise this release will be the final one in the PHP 7.0 branch.\\n         If your PHP installation is based on PHP 7.0, it may be a good time to start making the plans for the upgrade\\n         to PHP 7.1, PHP 7.2 or PHP 7.3.\\n      \\n    \\n  \\n  \\n\\n  \\n    06 Dec 2018\\n    \\n      PHP 7.1.25 Released\\n    \\n  \\n  \\n    \\n     The PHP development team announces the immediate availability of PHP 7.1.25.\\n     This is a security release.\\n     \\n     All PHP 7.1 users are encouraged to upgrade to this version.\\n     \\n     For source downloads of PHP 7.1.25 please visit our downloads page,\\n     Windows source and binaries can be found on windows.php.net/download/.\\n     The list of changes is recorded in the ChangeLog.\\n     \\n    \\n  \\n  \\n\\n  \\n    22 Nov 2018\\n    \\n      PHP 7.3.0RC6 Released\\n    \\n  \\n  \\n    \\n      \\n        The PHP team is glad to announce the presumably last PHP 7.3.0 pre-release, PHP 7.3.0RC6.\\n        The rough outline of the PHP 7.3 release cycle is specified in the\\n        PHP Wiki.\\n      \\n\\n      \\n        For source downloads of PHP 7.3.0RC6 please visit the download page.\\n        Windows sources and binaries can be found on windows.php.net/qa/.\\n      \\n\\n      \\n        Please carefully test this version and report any issues found in the bug reporting system.\\n      \\n\\n      \\n        THIS IS A DEVELOPMENT PREVIEW - DO NOT USE IT IN PRODUCTION!\\n      \\n\\n      \\n        For more information on the new features and other changes, you can read the\\n        NEWS file,\\n        or the UPGRADING\\n        file for a complete list of upgrading notes. Internal changes are listed in the\\n        UPGRADING.INTERNALS file.\\n        These files can also be found in the release archive.\\n      \\n\\n      \\n        The next release would be 7.3.0 (GA), planned for December 6th.\\n      \\n\\n      \\n        The signatures for the release can be found in the manifest\\n        or on the QA site.\\n      \\n\\n      \\n        Thank you for helping us make PHP better.\\n      \\n    \\n  \\n  \\n\\n  \\n    08 Nov 2018\\n    \\n      PHP 7.3.0RC5 Released\\n    \\n  \\n  \\n    \\n      \\n        The PHP team is glad to announce the next PHP 7.3.0 pre-release, PHP 7.3.0RC5.\\n        The rough outline of the PHP 7.3 release cycle is specified in the\\n        PHP Wiki.\\n      \\n\\n      \\n        For source downloads of PHP 7.3.0RC5 please visit the download page.\\n        Windows sources and binaries can be found on windows.php.net/qa/.\\n      \\n\\n      \\n        Please carefully test this version and report any issues found in the bug reporting system.\\n      \\n\\n      \\n        THIS IS A DEVELOPMENT PREVIEW - DO NOT USE IT IN PRODUCTION!\\n      \\n\\n      \\n        For more information on the new features and other changes, you can read the\\n        NEWS file,\\n        or the UPGRADING\\n        file for a complete list of upgrading notes. Internal changes are listed in the\\n        UPGRADING.INTERNALS file.\\n        These files can also be found in the release archive.\\n      \\n\\n      \\n        The next release would be RC6, planned for November 22nd.\\n      \\n\\n      \\n        The signatures for the release can be found in the manifest\\n        or on the QA site.\\n      \\n\\n      \\n        Thank you for helping us make PHP better.\\n      \\n    \\n  \\n  \\n\\n  \\n    25 Oct 2018\\n    \\n      PHP 7.3.0RC4 Released\\n    \\n  \\n  \\n    \\n      \\n        The PHP team is glad to announce the next PHP 7.3.0 pre-release, PHP 7.3.0RC4.\\n        The rough outline of the PHP 7.3 release cycle is specified in the\\n        PHP Wiki.\\n      \\n\\n      \\n        For source downloads of PHP 7.3.0RC4 please visit the download page.\\n        Windows sources and binaries can be found on windows.php.net/qa/.\\n      \\n\\n      \\n        Please carefully test this version and report any issues found in the bug reporting system.\\n      \\n\\n      \\n        THIS IS A DEVELOPMENT PREVIEW - DO NOT USE IT IN PRODUCTION!\\n      \\n\\n      \\n        For more information on the new features and other changes, you can read the\\n        NEWS file,\\n        or the UPGRADING\\n        file for a complete list of upgrading notes. Internal changes are listed in the\\n        UPGRADING.INTERNALS file.\\n        These files can also be\""
            ]
          },
          "metadata": {
            "tags": []
          },
          "execution_count": 3
        }
      ]
    },
    {
      "metadata": {
        "id": "s-DYHyybOWyY",
        "colab_type": "text"
      },
      "cell_type": "markdown",
      "source": [
        "# Clean the Text"
      ]
    },
    {
      "metadata": {
        "ExecuteTime": {
          "end_time": "2018-08-25T19:20:41.407488Z",
          "start_time": "2018-08-25T19:20:41.399504Z"
        },
        "id": "-XtkkJlmOWyZ",
        "colab_type": "code",
        "colab": {
          "base_uri": "https://localhost:8080/",
          "height": 70
        },
        "outputId": "c4d667e0-2ab8-45d4-f03d-8eecf7b92e01"
      },
      "cell_type": "code",
      "source": [
        "# Replace MIDDLE DOT with space  \n",
        "\n",
        "text_bullets_replaced= text.replace(u\"\\u00B7\",\" \") # Unicode Character 'MIDDLE DOT' (U+00B7)\n",
        "\n",
        "print(len(text_bullets_replaced))\n",
        "text_bullets_replaced[:10000]"
      ],
      "execution_count": 4,
      "outputs": [
        {
          "output_type": "stream",
          "text": [
            "28678\n"
          ],
          "name": "stdout"
        },
        {
          "output_type": "execute_result",
          "data": {
            "text/plain": [
              "\"\\n\\n  \\n  \\n\\n  PHP: Hypertext Preprocessor\\n\\n \\n \\n \\n \\n\\n \\n \\n \\n\\n\\n\\n\\n\\n\\n\\n\\n\\n \\n\\n \\n\\n \\n\\n \\n\\n \\n\\n\\n\\n\\n\\n  \\n    \\n    \\n    \\n    \\n      Downloads\\n      Documentation\\n      Get Involved\\n      Help\\n    \\n    \\n      \\n      \\n    \\n  \\n  \\n\\n\\nGetting Started\\n\\tIntroduction\\n\\tA simple tutorial\\nLanguage Reference\\n\\tBasic syntax\\n\\tTypes\\n\\tVariables\\n\\tConstants\\n\\tExpressions\\n\\tOperators\\n\\tControl Structures\\n\\tFunctions\\n\\tClasses and Objects\\n\\tNamespaces\\n\\tErrors\\n\\tExceptions\\n\\tGenerators\\n\\tReferences Explained\\n\\tPredefined Variables\\n\\tPredefined Exceptions\\n\\tPredefined Interfaces and Classes\\n\\tContext options and parameters\\n\\tSupported Protocols and Wrappers\\n\\n\\nSecurity\\n\\tIntroduction\\n\\tGeneral considerations\\n\\tInstalled as CGI binary\\n\\tInstalled as an Apache module\\n\\tSession Security\\n\\tFilesystem Security\\n\\tDatabase Security\\n\\tError Reporting\\n\\tUsing Register Globals\\n\\tUser Submitted Data\\n\\tMagic Quotes\\n\\tHiding PHP\\n\\tKeeping Current\\nFeatures\\n\\tHTTP authentication with PHP\\n\\tCookies\\n\\tSessions\\n\\tDealing with XForms\\n\\tHandling file uploads\\n\\tUsing remote files\\n\\tConnection handling\\n\\tPersistent Database Connections\\n\\tSafe Mode\\n\\tCommand line usage\\n\\tGarbage Collection\\n\\tDTrace Dynamic Tracing\\n\\n\\nFunction Reference\\n\\tAffecting PHP's Behaviour\\n\\tAudio Formats Manipulation\\n\\tAuthentication Services\\n\\tCommand Line Specific Extensions\\n\\tCompression and Archive Extensions\\n\\tCredit Card Processing\\n\\tCryptography Extensions\\n\\tDatabase Extensions\\n\\tDate and Time Related Extensions\\n\\tFile System Related Extensions\\n\\tHuman Language and Character Encoding Support\\n\\tImage Processing and Generation\\n\\tMail Related Extensions\\n\\tMathematical Extensions\\n\\tNon-Text MIME Output\\n\\tProcess Control Extensions\\n\\tOther Basic Extensions\\n\\tOther Services\\n\\tSearch Engine Extensions\\n\\tServer Specific Extensions\\n\\tSession Extensions\\n\\tText Processing\\n\\tVariable and Type Related Extensions\\n\\tWeb Services\\n\\tWindows Only Extensions\\n\\tXML Manipulation\\n\\tGUI Extensions\\n\\n\\nKeyboard Shortcuts?\\nThis help\\nj\\nNext menu item\\nk\\nPrevious menu item\\ng p\\nPrevious man page\\ng n\\nNext man page\\nG\\nScroll to bottom\\ng g\\nScroll to top\\ng h\\nGoto homepage\\ng s\\nGoto search(current page)\\n/\\nFocus search box\\n\\n\\n    \\n         \\n         \\n   \\n\\n\\n\\n\\n\\n  \\n      \\n    \\n      PHP is a popular general-purpose scripting language that is especially suited to web development.\\n      Fast, flexible and pragmatic, PHP powers everything from your blog to the most popular websites in the world.\\n    \\n    \\n      Download\\n\\n            5.6.40 Release Notes Upgrading\\n\\n            7.1.26 Release Notes Upgrading\\n\\n            7.2.14 Release Notes Upgrading\\n\\n            7.3.1 Release Notes Upgrading\\n\\n    \\n    \\n\\n\\n\\n\\n  \\n\\n  \\n    10 Jan 2019\\n    \\n      PHP 5.6.40 Released\\n    \\n  \\n  \\n    \\n     The PHP development team announces the immediate availability of PHP\\n     5.6.40. This is a security release. Several security bugs have been fixed\\n     in this release.\\n\\n     All PHP 5.6 users are encouraged to upgrade to this version.\\n     \\n\\n     For source downloads of PHP 5.6.40 please visit our downloads page,\\n     Windows source and binaries can be found on windows.php.net/download/.\\n     The list of changes is recorded in the ChangeLog.\\n     \\n\\n     Please note that according to the PHP version\\nsupport timelines,\\n        PHP 5.6.40 is the last scheduled release of PHP 5.6 branch. There may be additional release if we\\ndiscover\\n        important security issues that warrant it, otherwise this release will be the final one in the PHP\\n5.6 branch.\\n        If your PHP installation is based on PHP 5.6, it may be a good time to start making the plans for\\nthe upgrade\\n        to PHP 7.1, PHP 7.2 or PHP 7.3.\\n     \\n    \\n  \\n  \\n\\n  \\n    10 Jan 2019\\n    \\n      PHP 7.1.26 Release Announcement\\n    \\n  \\n  \\n    \\n       The PHP development team announces the immediate availability of PHP\\n       7.1.26. This is a security release which also contains several bug fixes.\\n     \\n       All PHP 7.1 users are encouraged to upgrade to this version.\\n     \\n       For source downloads of PHP 7.1.26 please visit our downloads page,\\n       Windows source and binaries can be found on windows.php.net/download/.\\n       The list of changes is recorded in the ChangeLog.\\n       \\n    \\n  \\n  \\n\\n  \\n    10 Jan 2019\\n    \\n      PHP 7.3.1 Released\\n    \\n  \\n  \\n    \\n      The PHP development team announces the immediate availability of PHP\\n      7.3.1. This is a security release which also contains several bug fixes.\\n\\n      All PHP 7.3 users are encouraged to upgrade to this version.\\n\\n      For source downloads of PHP 7.3.1 please visit our downloads page,\\n      Windows source and binaries can be found on windows.php.net/download/.\\n      The list of changes is recorded in the ChangeLog.\\n      \\n    \\n  \\n  \\n\\n  \\n    10 Jan 2019\\n    \\n      PHP 7.2.14 Released\\n    \\n  \\n  \\n    \\n     The PHP development team announces the immediate availability of PHP\\n     7.2.14. This is a security release which also contains several minor bug fixes.\\n\\n     All PHP 7.2 users are encouraged to upgrade to this version.\\n\\n     For source downloads of PHP 7.2.14 please visit our downloads page,\\n     Windows source and binaries can be found on windows.php.net/download/.\\n     The list of changes is recorded in the ChangeLog.\\n     \\n    \\n  \\n  \\n\\n  \\n    06 Dec 2018\\n    \\n      PHP 7.0.33 Released\\n    \\n  \\n  \\n    \\n      The PHP development team announces the immediate availability of PHP\\n         7.0.33. Five security-related issues were fixed in this release.\\n         All PHP 7.0 users are encouraged to upgrade to this version.\\n      \\n\\n      For source downloads of PHP 7.0.33 please visit our downloads page,\\n         Windows source and binaries can be found on windows.php.net/download/.\\n         The list of changes is recorded in the ChangeLog.\\n      \\n\\n      Please note that according to the PHP version support timelines,\\n         PHP 7.0.33 is the last scheduled release of PHP 7.0 branch. There may be additional release if we discover\\n         important security issues that warrant it, otherwise this release will be the final one in the PHP 7.0 branch.\\n         If your PHP installation is based on PHP 7.0, it may be a good time to start making the plans for the upgrade\\n         to PHP 7.1, PHP 7.2 or PHP 7.3.\\n      \\n    \\n  \\n  \\n\\n  \\n    06 Dec 2018\\n    \\n      PHP 7.1.25 Released\\n    \\n  \\n  \\n    \\n     The PHP development team announces the immediate availability of PHP 7.1.25.\\n     This is a security release.\\n     \\n     All PHP 7.1 users are encouraged to upgrade to this version.\\n     \\n     For source downloads of PHP 7.1.25 please visit our downloads page,\\n     Windows source and binaries can be found on windows.php.net/download/.\\n     The list of changes is recorded in the ChangeLog.\\n     \\n    \\n  \\n  \\n\\n  \\n    22 Nov 2018\\n    \\n      PHP 7.3.0RC6 Released\\n    \\n  \\n  \\n    \\n      \\n        The PHP team is glad to announce the presumably last PHP 7.3.0 pre-release, PHP 7.3.0RC6.\\n        The rough outline of the PHP 7.3 release cycle is specified in the\\n        PHP Wiki.\\n      \\n\\n      \\n        For source downloads of PHP 7.3.0RC6 please visit the download page.\\n        Windows sources and binaries can be found on windows.php.net/qa/.\\n      \\n\\n      \\n        Please carefully test this version and report any issues found in the bug reporting system.\\n      \\n\\n      \\n        THIS IS A DEVELOPMENT PREVIEW - DO NOT USE IT IN PRODUCTION!\\n      \\n\\n      \\n        For more information on the new features and other changes, you can read the\\n        NEWS file,\\n        or the UPGRADING\\n        file for a complete list of upgrading notes. Internal changes are listed in the\\n        UPGRADING.INTERNALS file.\\n        These files can also be found in the release archive.\\n      \\n\\n      \\n        The next release would be 7.3.0 (GA), planned for December 6th.\\n      \\n\\n      \\n        The signatures for the release can be found in the manifest\\n        or on the QA site.\\n      \\n\\n      \\n        Thank you for helping us make PHP better.\\n      \\n    \\n  \\n  \\n\\n  \\n    08 Nov 2018\\n    \\n      PHP 7.3.0RC5 Released\\n    \\n  \\n  \\n    \\n      \\n        The PHP team is glad to announce the next PHP 7.3.0 pre-release, PHP 7.3.0RC5.\\n        The rough outline of the PHP 7.3 release cycle is specified in the\\n        PHP Wiki.\\n      \\n\\n      \\n        For source downloads of PHP 7.3.0RC5 please visit the download page.\\n        Windows sources and binaries can be found on windows.php.net/qa/.\\n      \\n\\n      \\n        Please carefully test this version and report any issues found in the bug reporting system.\\n      \\n\\n      \\n        THIS IS A DEVELOPMENT PREVIEW - DO NOT USE IT IN PRODUCTION!\\n      \\n\\n      \\n        For more information on the new features and other changes, you can read the\\n        NEWS file,\\n        or the UPGRADING\\n        file for a complete list of upgrading notes. Internal changes are listed in the\\n        UPGRADING.INTERNALS file.\\n        These files can also be found in the release archive.\\n      \\n\\n      \\n        The next release would be RC6, planned for November 22nd.\\n      \\n\\n      \\n        The signatures for the release can be found in the manifest\\n        or on the QA site.\\n      \\n\\n      \\n        Thank you for helping us make PHP better.\\n      \\n    \\n  \\n  \\n\\n  \\n    25 Oct 2018\\n    \\n      PHP 7.3.0RC4 Released\\n    \\n  \\n  \\n    \\n      \\n        The PHP team is glad to announce the next PHP 7.3.0 pre-release, PHP 7.3.0RC4.\\n        The rough outline of the PHP 7.3 release cycle is specified in the\\n        PHP Wiki.\\n      \\n\\n      \\n        For source downloads of PHP 7.3.0RC4 please visit the download page.\\n        Windows sources and binaries can be found on windows.php.net/qa/.\\n      \\n\\n      \\n        Please carefully test this version and report any issues found in the bug reporting system.\\n      \\n\\n      \\n        THIS IS A DEVELOPMENT PREVIEW - DO NOT USE IT IN PRODUCTION!\\n      \\n\\n      \\n        For more information on the new features and other changes, you can read the\\n        NEWS file,\\n        or the UPGRADING\\n        file for a complete list of upgrading notes. Internal changes are listed in the\\n        UPGRADING.INTERNALS file.\\n        These files can also be\""
            ]
          },
          "metadata": {
            "tags": []
          },
          "execution_count": 4
        }
      ]
    },
    {
      "metadata": {
        "ExecuteTime": {
          "end_time": "2018-08-25T19:20:41.422444Z",
          "start_time": "2018-08-25T19:20:41.410476Z"
        },
        "id": "Idxm1v2uOWyc",
        "colab_type": "code",
        "colab": {
          "base_uri": "https://localhost:8080/",
          "height": 87
        },
        "outputId": "aeb258a7-422f-4a5a-f424-2530c300756d"
      },
      "cell_type": "code",
      "source": [
        "# Replace punctuations points in the text with space  \n",
        "\n",
        "punctuations = string.punctuation\n",
        "print(len(punctuations))\n",
        "\n",
        "text_no_punctuations = text_bullets_replaced.translate(str.maketrans(punctuations,\" \"*len(punctuations)))\n",
        "print(len(text_no_punctuations))\n",
        "text_no_punctuations[:10000]                                  "
      ],
      "execution_count": 5,
      "outputs": [
        {
          "output_type": "stream",
          "text": [
            "32\n",
            "28678\n"
          ],
          "name": "stdout"
        },
        {
          "output_type": "execute_result",
          "data": {
            "text/plain": [
              "'\\n\\n  \\n  \\n\\n  PHP  Hypertext Preprocessor\\n\\n \\n \\n \\n \\n\\n \\n \\n \\n\\n\\n\\n\\n\\n\\n\\n\\n\\n \\n\\n \\n\\n \\n\\n \\n\\n \\n\\n\\n\\n\\n\\n  \\n    \\n    \\n    \\n    \\n      Downloads\\n      Documentation\\n      Get Involved\\n      Help\\n    \\n    \\n      \\n      \\n    \\n  \\n  \\n\\n\\nGetting Started\\n\\tIntroduction\\n\\tA simple tutorial\\nLanguage Reference\\n\\tBasic syntax\\n\\tTypes\\n\\tVariables\\n\\tConstants\\n\\tExpressions\\n\\tOperators\\n\\tControl Structures\\n\\tFunctions\\n\\tClasses and Objects\\n\\tNamespaces\\n\\tErrors\\n\\tExceptions\\n\\tGenerators\\n\\tReferences Explained\\n\\tPredefined Variables\\n\\tPredefined Exceptions\\n\\tPredefined Interfaces and Classes\\n\\tContext options and parameters\\n\\tSupported Protocols and Wrappers\\n\\n\\nSecurity\\n\\tIntroduction\\n\\tGeneral considerations\\n\\tInstalled as CGI binary\\n\\tInstalled as an Apache module\\n\\tSession Security\\n\\tFilesystem Security\\n\\tDatabase Security\\n\\tError Reporting\\n\\tUsing Register Globals\\n\\tUser Submitted Data\\n\\tMagic Quotes\\n\\tHiding PHP\\n\\tKeeping Current\\nFeatures\\n\\tHTTP authentication with PHP\\n\\tCookies\\n\\tSessions\\n\\tDealing with XForms\\n\\tHandling file uploads\\n\\tUsing remote files\\n\\tConnection handling\\n\\tPersistent Database Connections\\n\\tSafe Mode\\n\\tCommand line usage\\n\\tGarbage Collection\\n\\tDTrace Dynamic Tracing\\n\\n\\nFunction Reference\\n\\tAffecting PHP s Behaviour\\n\\tAudio Formats Manipulation\\n\\tAuthentication Services\\n\\tCommand Line Specific Extensions\\n\\tCompression and Archive Extensions\\n\\tCredit Card Processing\\n\\tCryptography Extensions\\n\\tDatabase Extensions\\n\\tDate and Time Related Extensions\\n\\tFile System Related Extensions\\n\\tHuman Language and Character Encoding Support\\n\\tImage Processing and Generation\\n\\tMail Related Extensions\\n\\tMathematical Extensions\\n\\tNon Text MIME Output\\n\\tProcess Control Extensions\\n\\tOther Basic Extensions\\n\\tOther Services\\n\\tSearch Engine Extensions\\n\\tServer Specific Extensions\\n\\tSession Extensions\\n\\tText Processing\\n\\tVariable and Type Related Extensions\\n\\tWeb Services\\n\\tWindows Only Extensions\\n\\tXML Manipulation\\n\\tGUI Extensions\\n\\n\\nKeyboard Shortcuts \\nThis help\\nj\\nNext menu item\\nk\\nPrevious menu item\\ng p\\nPrevious man page\\ng n\\nNext man page\\nG\\nScroll to bottom\\ng g\\nScroll to top\\ng h\\nGoto homepage\\ng s\\nGoto search current page \\n \\nFocus search box\\n\\n\\n    \\n         \\n         \\n   \\n\\n\\n\\n\\n\\n  \\n      \\n    \\n      PHP is a popular general purpose scripting language that is especially suited to web development \\n      Fast  flexible and pragmatic  PHP powers everything from your blog to the most popular websites in the world \\n    \\n    \\n      Download\\n\\n            5 6 40 Release Notes Upgrading\\n\\n            7 1 26 Release Notes Upgrading\\n\\n            7 2 14 Release Notes Upgrading\\n\\n            7 3 1 Release Notes Upgrading\\n\\n    \\n    \\n\\n\\n\\n\\n  \\n\\n  \\n    10 Jan 2019\\n    \\n      PHP 5 6 40 Released\\n    \\n  \\n  \\n    \\n     The PHP development team announces the immediate availability of PHP\\n     5 6 40  This is a security release  Several security bugs have been fixed\\n     in this release \\n\\n     All PHP 5 6 users are encouraged to upgrade to this version \\n     \\n\\n     For source downloads of PHP 5 6 40 please visit our downloads page \\n     Windows source and binaries can be found on windows php net download  \\n     The list of changes is recorded in the ChangeLog \\n     \\n\\n     Please note that according to the PHP version\\nsupport timelines \\n        PHP 5 6 40 is the last scheduled release of PHP 5 6 branch  There may be additional release if we\\ndiscover\\n        important security issues that warrant it  otherwise this release will be the final one in the PHP\\n5 6 branch \\n        If your PHP installation is based on PHP 5 6  it may be a good time to start making the plans for\\nthe upgrade\\n        to PHP 7 1  PHP 7 2 or PHP 7 3 \\n     \\n    \\n  \\n  \\n\\n  \\n    10 Jan 2019\\n    \\n      PHP 7 1 26 Release Announcement\\n    \\n  \\n  \\n    \\n       The PHP development team announces the immediate availability of PHP\\n       7 1 26  This is a security release which also contains several bug fixes \\n     \\n       All PHP 7 1 users are encouraged to upgrade to this version \\n     \\n       For source downloads of PHP 7 1 26 please visit our downloads page \\n       Windows source and binaries can be found on windows php net download  \\n       The list of changes is recorded in the ChangeLog \\n       \\n    \\n  \\n  \\n\\n  \\n    10 Jan 2019\\n    \\n      PHP 7 3 1 Released\\n    \\n  \\n  \\n    \\n      The PHP development team announces the immediate availability of PHP\\n      7 3 1  This is a security release which also contains several bug fixes \\n\\n      All PHP 7 3 users are encouraged to upgrade to this version \\n\\n      For source downloads of PHP 7 3 1 please visit our downloads page \\n      Windows source and binaries can be found on windows php net download  \\n      The list of changes is recorded in the ChangeLog \\n      \\n    \\n  \\n  \\n\\n  \\n    10 Jan 2019\\n    \\n      PHP 7 2 14 Released\\n    \\n  \\n  \\n    \\n     The PHP development team announces the immediate availability of PHP\\n     7 2 14  This is a security release which also contains several minor bug fixes \\n\\n     All PHP 7 2 users are encouraged to upgrade to this version \\n\\n     For source downloads of PHP 7 2 14 please visit our downloads page \\n     Windows source and binaries can be found on windows php net download  \\n     The list of changes is recorded in the ChangeLog \\n     \\n    \\n  \\n  \\n\\n  \\n    06 Dec 2018\\n    \\n      PHP 7 0 33 Released\\n    \\n  \\n  \\n    \\n      The PHP development team announces the immediate availability of PHP\\n         7 0 33  Five security related issues were fixed in this release \\n         All PHP 7 0 users are encouraged to upgrade to this version \\n      \\n\\n      For source downloads of PHP 7 0 33 please visit our downloads page \\n         Windows source and binaries can be found on windows php net download  \\n         The list of changes is recorded in the ChangeLog \\n      \\n\\n      Please note that according to the PHP version support timelines \\n         PHP 7 0 33 is the last scheduled release of PHP 7 0 branch  There may be additional release if we discover\\n         important security issues that warrant it  otherwise this release will be the final one in the PHP 7 0 branch \\n         If your PHP installation is based on PHP 7 0  it may be a good time to start making the plans for the upgrade\\n         to PHP 7 1  PHP 7 2 or PHP 7 3 \\n      \\n    \\n  \\n  \\n\\n  \\n    06 Dec 2018\\n    \\n      PHP 7 1 25 Released\\n    \\n  \\n  \\n    \\n     The PHP development team announces the immediate availability of PHP 7 1 25 \\n     This is a security release \\n     \\n     All PHP 7 1 users are encouraged to upgrade to this version \\n     \\n     For source downloads of PHP 7 1 25 please visit our downloads page \\n     Windows source and binaries can be found on windows php net download  \\n     The list of changes is recorded in the ChangeLog \\n     \\n    \\n  \\n  \\n\\n  \\n    22 Nov 2018\\n    \\n      PHP 7 3 0RC6 Released\\n    \\n  \\n  \\n    \\n      \\n        The PHP team is glad to announce the presumably last PHP 7 3 0 pre release  PHP 7 3 0RC6 \\n        The rough outline of the PHP 7 3 release cycle is specified in the\\n        PHP Wiki \\n      \\n\\n      \\n        For source downloads of PHP 7 3 0RC6 please visit the download page \\n        Windows sources and binaries can be found on windows php net qa  \\n      \\n\\n      \\n        Please carefully test this version and report any issues found in the bug reporting system \\n      \\n\\n      \\n        THIS IS A DEVELOPMENT PREVIEW   DO NOT USE IT IN PRODUCTION \\n      \\n\\n      \\n        For more information on the new features and other changes  you can read the\\n        NEWS file \\n        or the UPGRADING\\n        file for a complete list of upgrading notes  Internal changes are listed in the\\n        UPGRADING INTERNALS file \\n        These files can also be found in the release archive \\n      \\n\\n      \\n        The next release would be 7 3 0  GA   planned for December 6th \\n      \\n\\n      \\n        The signatures for the release can be found in the manifest\\n        or on the QA site \\n      \\n\\n      \\n        Thank you for helping us make PHP better \\n      \\n    \\n  \\n  \\n\\n  \\n    08 Nov 2018\\n    \\n      PHP 7 3 0RC5 Released\\n    \\n  \\n  \\n    \\n      \\n        The PHP team is glad to announce the next PHP 7 3 0 pre release  PHP 7 3 0RC5 \\n        The rough outline of the PHP 7 3 release cycle is specified in the\\n        PHP Wiki \\n      \\n\\n      \\n        For source downloads of PHP 7 3 0RC5 please visit the download page \\n        Windows sources and binaries can be found on windows php net qa  \\n      \\n\\n      \\n        Please carefully test this version and report any issues found in the bug reporting system \\n      \\n\\n      \\n        THIS IS A DEVELOPMENT PREVIEW   DO NOT USE IT IN PRODUCTION \\n      \\n\\n      \\n        For more information on the new features and other changes  you can read the\\n        NEWS file \\n        or the UPGRADING\\n        file for a complete list of upgrading notes  Internal changes are listed in the\\n        UPGRADING INTERNALS file \\n        These files can also be found in the release archive \\n      \\n\\n      \\n        The next release would be RC6  planned for November 22nd \\n      \\n\\n      \\n        The signatures for the release can be found in the manifest\\n        or on the QA site \\n      \\n\\n      \\n        Thank you for helping us make PHP better \\n      \\n    \\n  \\n  \\n\\n  \\n    25 Oct 2018\\n    \\n      PHP 7 3 0RC4 Released\\n    \\n  \\n  \\n    \\n      \\n        The PHP team is glad to announce the next PHP 7 3 0 pre release  PHP 7 3 0RC4 \\n        The rough outline of the PHP 7 3 release cycle is specified in the\\n        PHP Wiki \\n      \\n\\n      \\n        For source downloads of PHP 7 3 0RC4 please visit the download page \\n        Windows sources and binaries can be found on windows php net qa  \\n      \\n\\n      \\n        Please carefully test this version and report any issues found in the bug reporting system \\n      \\n\\n      \\n        THIS IS A DEVELOPMENT PREVIEW   DO NOT USE IT IN PRODUCTION \\n      \\n\\n      \\n        For more information on the new features and other changes  you can read the\\n        NEWS file \\n        or the UPGRADING\\n        file for a complete list of upgrading notes  Internal changes are listed in the\\n        UPGRADING INTERNALS file \\n        These files can also be'"
            ]
          },
          "metadata": {
            "tags": []
          },
          "execution_count": 5
        }
      ]
    },
    {
      "metadata": {
        "ExecuteTime": {
          "end_time": "2018-08-25T19:20:41.441397Z",
          "start_time": "2018-08-25T19:20:41.426472Z"
        },
        "id": "uiOCwTNBOWyf",
        "colab_type": "code",
        "colab": {
          "base_uri": "https://localhost:8080/",
          "height": 70
        },
        "outputId": "01f841bd-360e-40ab-cc68-fe6590180fe9"
      },
      "cell_type": "code",
      "source": [
        "# Replace number symbols in the text with space  \n",
        "numbers = \"1234567890\"\n",
        "text_no_numbers = text_no_punctuations.translate(str.maketrans(numbers,\" \"*len(numbers))) \n",
        "print(len(text_no_numbers))\n",
        "text_no_numbers[:10000]   "
      ],
      "execution_count": 6,
      "outputs": [
        {
          "output_type": "stream",
          "text": [
            "28678\n"
          ],
          "name": "stdout"
        },
        {
          "output_type": "execute_result",
          "data": {
            "text/plain": [
              "'\\n\\n  \\n  \\n\\n  PHP  Hypertext Preprocessor\\n\\n \\n \\n \\n \\n\\n \\n \\n \\n\\n\\n\\n\\n\\n\\n\\n\\n\\n \\n\\n \\n\\n \\n\\n \\n\\n \\n\\n\\n\\n\\n\\n  \\n    \\n    \\n    \\n    \\n      Downloads\\n      Documentation\\n      Get Involved\\n      Help\\n    \\n    \\n      \\n      \\n    \\n  \\n  \\n\\n\\nGetting Started\\n\\tIntroduction\\n\\tA simple tutorial\\nLanguage Reference\\n\\tBasic syntax\\n\\tTypes\\n\\tVariables\\n\\tConstants\\n\\tExpressions\\n\\tOperators\\n\\tControl Structures\\n\\tFunctions\\n\\tClasses and Objects\\n\\tNamespaces\\n\\tErrors\\n\\tExceptions\\n\\tGenerators\\n\\tReferences Explained\\n\\tPredefined Variables\\n\\tPredefined Exceptions\\n\\tPredefined Interfaces and Classes\\n\\tContext options and parameters\\n\\tSupported Protocols and Wrappers\\n\\n\\nSecurity\\n\\tIntroduction\\n\\tGeneral considerations\\n\\tInstalled as CGI binary\\n\\tInstalled as an Apache module\\n\\tSession Security\\n\\tFilesystem Security\\n\\tDatabase Security\\n\\tError Reporting\\n\\tUsing Register Globals\\n\\tUser Submitted Data\\n\\tMagic Quotes\\n\\tHiding PHP\\n\\tKeeping Current\\nFeatures\\n\\tHTTP authentication with PHP\\n\\tCookies\\n\\tSessions\\n\\tDealing with XForms\\n\\tHandling file uploads\\n\\tUsing remote files\\n\\tConnection handling\\n\\tPersistent Database Connections\\n\\tSafe Mode\\n\\tCommand line usage\\n\\tGarbage Collection\\n\\tDTrace Dynamic Tracing\\n\\n\\nFunction Reference\\n\\tAffecting PHP s Behaviour\\n\\tAudio Formats Manipulation\\n\\tAuthentication Services\\n\\tCommand Line Specific Extensions\\n\\tCompression and Archive Extensions\\n\\tCredit Card Processing\\n\\tCryptography Extensions\\n\\tDatabase Extensions\\n\\tDate and Time Related Extensions\\n\\tFile System Related Extensions\\n\\tHuman Language and Character Encoding Support\\n\\tImage Processing and Generation\\n\\tMail Related Extensions\\n\\tMathematical Extensions\\n\\tNon Text MIME Output\\n\\tProcess Control Extensions\\n\\tOther Basic Extensions\\n\\tOther Services\\n\\tSearch Engine Extensions\\n\\tServer Specific Extensions\\n\\tSession Extensions\\n\\tText Processing\\n\\tVariable and Type Related Extensions\\n\\tWeb Services\\n\\tWindows Only Extensions\\n\\tXML Manipulation\\n\\tGUI Extensions\\n\\n\\nKeyboard Shortcuts \\nThis help\\nj\\nNext menu item\\nk\\nPrevious menu item\\ng p\\nPrevious man page\\ng n\\nNext man page\\nG\\nScroll to bottom\\ng g\\nScroll to top\\ng h\\nGoto homepage\\ng s\\nGoto search current page \\n \\nFocus search box\\n\\n\\n    \\n         \\n         \\n   \\n\\n\\n\\n\\n\\n  \\n      \\n    \\n      PHP is a popular general purpose scripting language that is especially suited to web development \\n      Fast  flexible and pragmatic  PHP powers everything from your blog to the most popular websites in the world \\n    \\n    \\n      Download\\n\\n                   Release Notes Upgrading\\n\\n                   Release Notes Upgrading\\n\\n                   Release Notes Upgrading\\n\\n                  Release Notes Upgrading\\n\\n    \\n    \\n\\n\\n\\n\\n  \\n\\n  \\n       Jan     \\n    \\n      PHP        Released\\n    \\n  \\n  \\n    \\n     The PHP development team announces the immediate availability of PHP\\n             This is a security release  Several security bugs have been fixed\\n     in this release \\n\\n     All PHP     users are encouraged to upgrade to this version \\n     \\n\\n     For source downloads of PHP        please visit our downloads page \\n     Windows source and binaries can be found on windows php net download  \\n     The list of changes is recorded in the ChangeLog \\n     \\n\\n     Please note that according to the PHP version\\nsupport timelines \\n        PHP        is the last scheduled release of PHP     branch  There may be additional release if we\\ndiscover\\n        important security issues that warrant it  otherwise this release will be the final one in the PHP\\n    branch \\n        If your PHP installation is based on PHP      it may be a good time to start making the plans for\\nthe upgrade\\n        to PHP      PHP     or PHP     \\n     \\n    \\n  \\n  \\n\\n  \\n       Jan     \\n    \\n      PHP        Release Announcement\\n    \\n  \\n  \\n    \\n       The PHP development team announces the immediate availability of PHP\\n               This is a security release which also contains several bug fixes \\n     \\n       All PHP     users are encouraged to upgrade to this version \\n     \\n       For source downloads of PHP        please visit our downloads page \\n       Windows source and binaries can be found on windows php net download  \\n       The list of changes is recorded in the ChangeLog \\n       \\n    \\n  \\n  \\n\\n  \\n       Jan     \\n    \\n      PHP       Released\\n    \\n  \\n  \\n    \\n      The PHP development team announces the immediate availability of PHP\\n             This is a security release which also contains several bug fixes \\n\\n      All PHP     users are encouraged to upgrade to this version \\n\\n      For source downloads of PHP       please visit our downloads page \\n      Windows source and binaries can be found on windows php net download  \\n      The list of changes is recorded in the ChangeLog \\n      \\n    \\n  \\n  \\n\\n  \\n       Jan     \\n    \\n      PHP        Released\\n    \\n  \\n  \\n    \\n     The PHP development team announces the immediate availability of PHP\\n             This is a security release which also contains several minor bug fixes \\n\\n     All PHP     users are encouraged to upgrade to this version \\n\\n     For source downloads of PHP        please visit our downloads page \\n     Windows source and binaries can be found on windows php net download  \\n     The list of changes is recorded in the ChangeLog \\n     \\n    \\n  \\n  \\n\\n  \\n       Dec     \\n    \\n      PHP        Released\\n    \\n  \\n  \\n    \\n      The PHP development team announces the immediate availability of PHP\\n                 Five security related issues were fixed in this release \\n         All PHP     users are encouraged to upgrade to this version \\n      \\n\\n      For source downloads of PHP        please visit our downloads page \\n         Windows source and binaries can be found on windows php net download  \\n         The list of changes is recorded in the ChangeLog \\n      \\n\\n      Please note that according to the PHP version support timelines \\n         PHP        is the last scheduled release of PHP     branch  There may be additional release if we discover\\n         important security issues that warrant it  otherwise this release will be the final one in the PHP     branch \\n         If your PHP installation is based on PHP      it may be a good time to start making the plans for the upgrade\\n         to PHP      PHP     or PHP     \\n      \\n    \\n  \\n  \\n\\n  \\n       Dec     \\n    \\n      PHP        Released\\n    \\n  \\n  \\n    \\n     The PHP development team announces the immediate availability of PHP        \\n     This is a security release \\n     \\n     All PHP     users are encouraged to upgrade to this version \\n     \\n     For source downloads of PHP        please visit our downloads page \\n     Windows source and binaries can be found on windows php net download  \\n     The list of changes is recorded in the ChangeLog \\n     \\n    \\n  \\n  \\n\\n  \\n       Nov     \\n    \\n      PHP      RC  Released\\n    \\n  \\n  \\n    \\n      \\n        The PHP team is glad to announce the presumably last PHP       pre release  PHP      RC  \\n        The rough outline of the PHP     release cycle is specified in the\\n        PHP Wiki \\n      \\n\\n      \\n        For source downloads of PHP      RC  please visit the download page \\n        Windows sources and binaries can be found on windows php net qa  \\n      \\n\\n      \\n        Please carefully test this version and report any issues found in the bug reporting system \\n      \\n\\n      \\n        THIS IS A DEVELOPMENT PREVIEW   DO NOT USE IT IN PRODUCTION \\n      \\n\\n      \\n        For more information on the new features and other changes  you can read the\\n        NEWS file \\n        or the UPGRADING\\n        file for a complete list of upgrading notes  Internal changes are listed in the\\n        UPGRADING INTERNALS file \\n        These files can also be found in the release archive \\n      \\n\\n      \\n        The next release would be        GA   planned for December  th \\n      \\n\\n      \\n        The signatures for the release can be found in the manifest\\n        or on the QA site \\n      \\n\\n      \\n        Thank you for helping us make PHP better \\n      \\n    \\n  \\n  \\n\\n  \\n       Nov     \\n    \\n      PHP      RC  Released\\n    \\n  \\n  \\n    \\n      \\n        The PHP team is glad to announce the next PHP       pre release  PHP      RC  \\n        The rough outline of the PHP     release cycle is specified in the\\n        PHP Wiki \\n      \\n\\n      \\n        For source downloads of PHP      RC  please visit the download page \\n        Windows sources and binaries can be found on windows php net qa  \\n      \\n\\n      \\n        Please carefully test this version and report any issues found in the bug reporting system \\n      \\n\\n      \\n        THIS IS A DEVELOPMENT PREVIEW   DO NOT USE IT IN PRODUCTION \\n      \\n\\n      \\n        For more information on the new features and other changes  you can read the\\n        NEWS file \\n        or the UPGRADING\\n        file for a complete list of upgrading notes  Internal changes are listed in the\\n        UPGRADING INTERNALS file \\n        These files can also be found in the release archive \\n      \\n\\n      \\n        The next release would be RC   planned for November   nd \\n      \\n\\n      \\n        The signatures for the release can be found in the manifest\\n        or on the QA site \\n      \\n\\n      \\n        Thank you for helping us make PHP better \\n      \\n    \\n  \\n  \\n\\n  \\n       Oct     \\n    \\n      PHP      RC  Released\\n    \\n  \\n  \\n    \\n      \\n        The PHP team is glad to announce the next PHP       pre release  PHP      RC  \\n        The rough outline of the PHP     release cycle is specified in the\\n        PHP Wiki \\n      \\n\\n      \\n        For source downloads of PHP      RC  please visit the download page \\n        Windows sources and binaries can be found on windows php net qa  \\n      \\n\\n      \\n        Please carefully test this version and report any issues found in the bug reporting system \\n      \\n\\n      \\n        THIS IS A DEVELOPMENT PREVIEW   DO NOT USE IT IN PRODUCTION \\n      \\n\\n      \\n        For more information on the new features and other changes  you can read the\\n        NEWS file \\n        or the UPGRADING\\n        file for a complete list of upgrading notes  Internal changes are listed in the\\n        UPGRADING INTERNALS file \\n        These files can also be'"
            ]
          },
          "metadata": {
            "tags": []
          },
          "execution_count": 6
        }
      ]
    },
    {
      "metadata": {
        "id": "p7yV5gd-OWyk",
        "colab_type": "text"
      },
      "cell_type": "markdown",
      "source": [
        "# Tokenize words"
      ]
    },
    {
      "metadata": {
        "ExecuteTime": {
          "end_time": "2018-08-25T19:20:43.336231Z",
          "start_time": "2018-08-25T19:20:41.446383Z"
        },
        "id": "JcFE-ov9OWyl",
        "colab_type": "code",
        "colab": {
          "base_uri": "https://localhost:8080/",
          "height": 104
        },
        "outputId": "5ed00308-fb9c-4d1c-cd95-fa29501b0216"
      },
      "cell_type": "code",
      "source": [
        "nltk.download('punkt')\n",
        "words  = nltk.word_tokenize(text_no_numbers) # we can also use wordpunct_tokenize() but we already cleaned the punctuations\n",
        "\n",
        "print(len(words))\n",
        "print(words[:100])"
      ],
      "execution_count": 7,
      "outputs": [
        {
          "output_type": "stream",
          "text": [
            "[nltk_data] Downloading package punkt to /root/nltk_data...\n",
            "[nltk_data]   Unzipping tokenizers/punkt.zip.\n",
            "3746\n",
            "['PHP', 'Hypertext', 'Preprocessor', 'Downloads', 'Documentation', 'Get', 'Involved', 'Help', 'Getting', 'Started', 'Introduction', 'A', 'simple', 'tutorial', 'Language', 'Reference', 'Basic', 'syntax', 'Types', 'Variables', 'Constants', 'Expressions', 'Operators', 'Control', 'Structures', 'Functions', 'Classes', 'and', 'Objects', 'Namespaces', 'Errors', 'Exceptions', 'Generators', 'References', 'Explained', 'Predefined', 'Variables', 'Predefined', 'Exceptions', 'Predefined', 'Interfaces', 'and', 'Classes', 'Context', 'options', 'and', 'parameters', 'Supported', 'Protocols', 'and', 'Wrappers', 'Security', 'Introduction', 'General', 'considerations', 'Installed', 'as', 'CGI', 'binary', 'Installed', 'as', 'an', 'Apache', 'module', 'Session', 'Security', 'Filesystem', 'Security', 'Database', 'Security', 'Error', 'Reporting', 'Using', 'Register', 'Globals', 'User', 'Submitted', 'Data', 'Magic', 'Quotes', 'Hiding', 'PHP', 'Keeping', 'Current', 'Features', 'HTTP', 'authentication', 'with', 'PHP', 'Cookies', 'Sessions', 'Dealing', 'with', 'XForms', 'Handling', 'file', 'uploads', 'Using', 'remote', 'files']\n"
          ],
          "name": "stdout"
        }
      ]
    },
    {
      "metadata": {
        "id": "TniY-07FOWyo",
        "colab_type": "text"
      },
      "cell_type": "markdown",
      "source": [
        "# Clean the Tokenized Words List"
      ]
    },
    {
      "metadata": {
        "ExecuteTime": {
          "end_time": "2018-08-25T19:20:43.344210Z",
          "start_time": "2018-08-25T19:20:43.339237Z"
        },
        "scrolled": false,
        "id": "9si-9SdYOWyp",
        "colab_type": "code",
        "colab": {
          "base_uri": "https://localhost:8080/",
          "height": 70
        },
        "outputId": "b293c6f3-4444-4738-be64-5418f475144e"
      },
      "cell_type": "code",
      "source": [
        "# Create word list by adding strings which are only alphabets \n",
        "words_only = [word for word in words if word.isalpha()] \n",
        "print(len(words_only))\n",
        "print(words_only[:100]) "
      ],
      "execution_count": 8,
      "outputs": [
        {
          "output_type": "stream",
          "text": [
            "3745\n",
            "['PHP', 'Hypertext', 'Preprocessor', 'Downloads', 'Documentation', 'Get', 'Involved', 'Help', 'Getting', 'Started', 'Introduction', 'A', 'simple', 'tutorial', 'Language', 'Reference', 'Basic', 'syntax', 'Types', 'Variables', 'Constants', 'Expressions', 'Operators', 'Control', 'Structures', 'Functions', 'Classes', 'and', 'Objects', 'Namespaces', 'Errors', 'Exceptions', 'Generators', 'References', 'Explained', 'Predefined', 'Variables', 'Predefined', 'Exceptions', 'Predefined', 'Interfaces', 'and', 'Classes', 'Context', 'options', 'and', 'parameters', 'Supported', 'Protocols', 'and', 'Wrappers', 'Security', 'Introduction', 'General', 'considerations', 'Installed', 'as', 'CGI', 'binary', 'Installed', 'as', 'an', 'Apache', 'module', 'Session', 'Security', 'Filesystem', 'Security', 'Database', 'Security', 'Error', 'Reporting', 'Using', 'Register', 'Globals', 'User', 'Submitted', 'Data', 'Magic', 'Quotes', 'Hiding', 'PHP', 'Keeping', 'Current', 'Features', 'HTTP', 'authentication', 'with', 'PHP', 'Cookies', 'Sessions', 'Dealing', 'with', 'XForms', 'Handling', 'file', 'uploads', 'Using', 'remote', 'files']\n"
          ],
          "name": "stdout"
        }
      ]
    },
    {
      "metadata": {
        "ExecuteTime": {
          "end_time": "2018-08-25T19:20:43.356180Z",
          "start_time": "2018-08-25T19:20:43.347203Z"
        },
        "scrolled": false,
        "id": "xVN-D63oOWys",
        "colab_type": "code",
        "colab": {
          "base_uri": "https://localhost:8080/",
          "height": 70
        },
        "outputId": "9c600546-fc25-488c-a2b1-6ee036b0fa25"
      },
      "cell_type": "code",
      "source": [
        "# Convert words in the word list into lower case\n",
        "words_lower = [word.lower() for word in words_only]\n",
        "print(len(words_lower))\n",
        "print(words_lower[:100])"
      ],
      "execution_count": 9,
      "outputs": [
        {
          "output_type": "stream",
          "text": [
            "3745\n",
            "['php', 'hypertext', 'preprocessor', 'downloads', 'documentation', 'get', 'involved', 'help', 'getting', 'started', 'introduction', 'a', 'simple', 'tutorial', 'language', 'reference', 'basic', 'syntax', 'types', 'variables', 'constants', 'expressions', 'operators', 'control', 'structures', 'functions', 'classes', 'and', 'objects', 'namespaces', 'errors', 'exceptions', 'generators', 'references', 'explained', 'predefined', 'variables', 'predefined', 'exceptions', 'predefined', 'interfaces', 'and', 'classes', 'context', 'options', 'and', 'parameters', 'supported', 'protocols', 'and', 'wrappers', 'security', 'introduction', 'general', 'considerations', 'installed', 'as', 'cgi', 'binary', 'installed', 'as', 'an', 'apache', 'module', 'session', 'security', 'filesystem', 'security', 'database', 'security', 'error', 'reporting', 'using', 'register', 'globals', 'user', 'submitted', 'data', 'magic', 'quotes', 'hiding', 'php', 'keeping', 'current', 'features', 'http', 'authentication', 'with', 'php', 'cookies', 'sessions', 'dealing', 'with', 'xforms', 'handling', 'file', 'uploads', 'using', 'remote', 'files']\n"
          ],
          "name": "stdout"
        }
      ]
    },
    {
      "metadata": {
        "id": "SJNDJ4L9OWyv",
        "colab_type": "text"
      },
      "cell_type": "markdown",
      "source": [
        "## Calculate the Frequency of Words"
      ]
    },
    {
      "metadata": {
        "ExecuteTime": {
          "end_time": "2018-08-25T19:20:43.366179Z",
          "start_time": "2018-08-25T19:20:43.359181Z"
        },
        "scrolled": false,
        "id": "DMAE25lsOWyw",
        "colab_type": "code",
        "colab": {
          "base_uri": "https://localhost:8080/",
          "height": 70
        },
        "outputId": "61820759-2275-4fe3-88d3-6db750d88f03"
      },
      "cell_type": "code",
      "source": [
        "# Word Frequencies\n",
        "from collections import Counter\n",
        "word_freq_counter = Counter(words_lower)\n",
        "print(len(word_freq_counter))\n",
        "print(word_freq_counter)"
      ],
      "execution_count": 10,
      "outputs": [
        {
          "output_type": "stream",
          "text": [
            "367\n",
            "Counter({'the': 324, 'php': 225, 'for': 112, 'release': 109, 'in': 100, 'of': 100, 'be': 79, 'can': 78, 'and': 77, 'is': 68, 'found': 68, 'on': 63, 'this': 60, 'windows': 49, 'upgrading': 48, 'file': 46, 'a': 45, 'to': 43, 'please': 41, 'you': 41, 'version': 36, 'downloads': 33, 'changes': 33, 'or': 33, 'source': 32, 'development': 30, 'list': 30, 'qa': 30, 'page': 28, 'released': 27, 'download': 26, 'net': 26, 'also': 26, 'rc': 26, 'team': 25, 'visit': 25, 'binaries': 24, 'read': 23, 'next': 22, 'notes': 22, 'it': 22, 'bug': 22, 'other': 21, 'are': 20, 'features': 19, 'files': 19, 'archive': 19, 'system': 19, 'test': 19, 'news': 19, 'wiki': 18, 'carefully': 18, 'report': 18, 'any': 18, 'do': 18, 'not': 18, 'use': 18, 'production': 18, 'information': 18, 'new': 18, 'complete': 18, 'these': 18, 'planned': 18, 'thank': 18, 'helping': 18, 'us': 18, 'make': 18, 'better': 18, 'beta': 18, 'alpha': 18, 'sources': 17, 'preview': 17, 'more': 17, 'extensions': 16, 'issues': 16, 'reporting': 14, 'th': 14, 'candidate': 14, 'security': 13, 'glad': 13, 'announce': 13, 'rough': 13, 'outline': 13, 'cycle': 13, 'specified': 13, 'would': 13, 'signatures': 13, 'manifest': 13, 'site': 13, 'announces': 12, 'immediate': 12, 'availability': 12, 'all': 12, 'users': 12, 'encouraged': 12, 'our': 12, 'upgrade': 9, 'internal': 8, 'listed': 8, 'internals': 8, 'g': 7, 'recorded': 7, 'changelog': 7, 'will': 7, 'bugs': 6, 'pre': 6, 'related': 5, 'that': 5, 'several': 5, 'fixes': 5, 'aug': 5, 'incompatibilities': 5, 'tracking': 5, 'full': 5, 'releases': 5, 'jan': 4, 'branch': 4, 'may': 4, 'if': 4, 'which': 4, 'contains': 4, 'october': 4, 'august': 4, 'first': 4, 'at': 4, 'conference': 4, 'language': 3, 'predefined': 3, 'database': 3, 'with': 3, 'services': 3, 'processing': 3, 'time': 3, 'support': 3, 'search': 3, 'your': 3, 'last': 3, 'final': 3, 'oct': 3, 'sep': 3, 'september': 3, 'jul': 3, 'third': 3, 'july': 3, 'help': 2, 'introduction': 2, 'reference': 2, 'basic': 2, 'variables': 2, 'control': 2, 'classes': 2, 'exceptions': 2, 'general': 2, 'installed': 2, 'as': 2, 'an': 2, 'session': 2, 'using': 2, 'user': 2, 'current': 2, 'authentication': 2, 'handling': 2, 'command': 2, 'line': 2, 's': 2, 'manipulation': 2, 'specific': 2, 'text': 2, 'web': 2, 'menu': 2, 'item': 2, 'previous': 2, 'man': 2, 'scroll': 2, 'goto': 2, 'popular': 2, 'fixed': 2, 'note': 2, 'according': 2, 'timelines': 2, 'scheduled': 2, 'there': 2, 'additional': 2, 'we': 2, 'discover': 2, 'important': 2, 'warrant': 2, 'otherwise': 2, 'one': 2, 'installation': 2, 'based': 2, 'good': 2, 'start': 2, 'making': 2, 'plans': 2, 'dec': 2, 'nov': 2, 'november': 2, 'nd': 2, 'fourth': 2, 'jun': 2, 'second': 2, 'announced': 2, 'dutch': 2, 'group': 2, 'sites': 2, 'hypertext': 1, 'preprocessor': 1, 'documentation': 1, 'get': 1, 'involved': 1, 'getting': 1, 'started': 1, 'simple': 1, 'tutorial': 1, 'syntax': 1, 'types': 1, 'constants': 1, 'expressions': 1, 'operators': 1, 'structures': 1, 'functions': 1, 'objects': 1, 'namespaces': 1, 'errors': 1, 'generators': 1, 'references': 1, 'explained': 1, 'interfaces': 1, 'context': 1, 'options': 1, 'parameters': 1, 'supported': 1, 'protocols': 1, 'wrappers': 1, 'considerations': 1, 'cgi': 1, 'binary': 1, 'apache': 1, 'module': 1, 'filesystem': 1, 'error': 1, 'register': 1, 'globals': 1, 'submitted': 1, 'data': 1, 'magic': 1, 'quotes': 1, 'hiding': 1, 'keeping': 1, 'http': 1, 'cookies': 1, 'sessions': 1, 'dealing': 1, 'xforms': 1, 'uploads': 1, 'remote': 1, 'connection': 1, 'persistent': 1, 'connections': 1, 'safe': 1, 'mode': 1, 'usage': 1, 'garbage': 1, 'collection': 1, 'dtrace': 1, 'dynamic': 1, 'tracing': 1, 'function': 1, 'affecting': 1, 'behaviour': 1, 'audio': 1, 'formats': 1, 'compression': 1, 'credit': 1, 'card': 1, 'cryptography': 1, 'date': 1, 'human': 1, 'character': 1, 'encoding': 1, 'image': 1, 'generation': 1, 'mail': 1, 'mathematical': 1, 'non': 1, 'mime': 1, 'output': 1, 'process': 1, 'engine': 1, 'server': 1, 'variable': 1, 'type': 1, 'only': 1, 'xml': 1, 'gui': 1, 'keyboard': 1, 'shortcuts': 1, 'j': 1, 'k': 1, 'p': 1, 'n': 1, 'bottom': 1, 'top': 1, 'h': 1, 'homepage': 1, 'focus': 1, 'box': 1, 'purpose': 1, 'scripting': 1, 'especially': 1, 'suited': 1, 'fast': 1, 'flexible': 1, 'pragmatic': 1, 'powers': 1, 'everything': 1, 'from': 1, 'blog': 1, 'most': 1, 'websites': 1, 'world': 1, 'have': 1, 'been': 1, 'announcement': 1, 'minor': 1, 'five': 1, 'were': 1, 'presumably': 1, 'ga': 1, 'december': 1, 'seventh': 1, 'sixth': 1, 'fifth': 1, 'starts': 1, 'early': 1, 'june': 1, 'feb': 1, 'bugfix': 1, 'included': 1, 'improvements': 1, 'relative': 1, 'older': 1, 'entries': 1, 'upcoming': 1, 'conferencessunshinephp': 1, 'international': 1, 'spring': 1, 'edition': 1, 'conferences': 1, 'calling': 1, 'papersphpkonf': 1, 'istanbul': 1, 'cfp': 1, 'open': 1, 'events': 1, 'special': 1, 'thanks': 1, 'social': 1, 'media': 1, 'official': 1, 'copyright': 1, 'my': 1, 'contact': 1, 'mirror': 1, 'privacy': 1, 'policy': 1})\n"
          ],
          "name": "stdout"
        }
      ]
    },
    {
      "metadata": {
        "ExecuteTime": {
          "end_time": "2018-08-25T19:20:43.376125Z",
          "start_time": "2018-08-25T19:20:43.369151Z"
        },
        "id": "gp_tCBmpOWyz",
        "colab_type": "code",
        "colab": {
          "base_uri": "https://localhost:8080/",
          "height": 54
        },
        "outputId": "f4cdd490-0dc5-4d5b-d1b3-f3d31ff09365"
      },
      "cell_type": "code",
      "source": [
        "print(word_freq_counter.most_common(50))"
      ],
      "execution_count": 11,
      "outputs": [
        {
          "output_type": "stream",
          "text": [
            "[('the', 324), ('php', 225), ('for', 112), ('release', 109), ('in', 100), ('of', 100), ('be', 79), ('can', 78), ('and', 77), ('is', 68), ('found', 68), ('on', 63), ('this', 60), ('windows', 49), ('upgrading', 48), ('file', 46), ('a', 45), ('to', 43), ('please', 41), ('you', 41), ('version', 36), ('downloads', 33), ('changes', 33), ('or', 33), ('source', 32), ('development', 30), ('list', 30), ('qa', 30), ('page', 28), ('released', 27), ('download', 26), ('net', 26), ('also', 26), ('rc', 26), ('team', 25), ('visit', 25), ('binaries', 24), ('read', 23), ('next', 22), ('notes', 22), ('it', 22), ('bug', 22), ('other', 21), ('are', 20), ('features', 19), ('files', 19), ('archive', 19), ('system', 19), ('test', 19), ('news', 19)]\n"
          ],
          "name": "stdout"
        }
      ]
    },
    {
      "metadata": {
        "id": "SZPdpVriOWy3",
        "colab_type": "text"
      },
      "cell_type": "markdown",
      "source": [
        "## Convert to Dictionary - To Create Dataframe Later"
      ]
    },
    {
      "metadata": {
        "ExecuteTime": {
          "end_time": "2018-08-25T19:20:43.385101Z",
          "start_time": "2018-08-25T19:20:43.379117Z"
        },
        "id": "DrCZM97fOWy4",
        "colab_type": "code",
        "colab": {}
      },
      "cell_type": "code",
      "source": [
        "word_freq_dict = dict(word_freq_counter)"
      ],
      "execution_count": 0,
      "outputs": []
    },
    {
      "metadata": {
        "id": "R7y996RAOWy8",
        "colab_type": "text"
      },
      "cell_type": "markdown",
      "source": [
        "# Notes:"
      ]
    },
    {
      "metadata": {
        "ExecuteTime": {
          "end_time": "2018-08-24T12:05:02.653048Z",
          "start_time": "2018-08-24T12:05:02.649059Z"
        },
        "id": "h3GD_VvgOWy9",
        "colab_type": "text"
      },
      "cell_type": "markdown",
      "source": [
        "***This word count dictionary can then be used to create a pandas dataframe for further manipulation.***"
      ]
    },
    {
      "metadata": {
        "ExecuteTime": {
          "end_time": "2018-08-24T12:05:02.653048Z",
          "start_time": "2018-08-24T12:05:02.649059Z"
        },
        "id": "icG6l0bHOWy9",
        "colab_type": "text"
      },
      "cell_type": "markdown",
      "source": [
        "***However, notice that we haven't removed ntlk stopwords, nor have we lemmatized or stemmed the words.***"
      ]
    },
    {
      "metadata": {
        "id": "0OCoATD_OWy-",
        "colab_type": "text"
      },
      "cell_type": "markdown",
      "source": [
        "# Further Cleaning Using NLTK- Remove Stopwords"
      ]
    },
    {
      "metadata": {
        "ExecuteTime": {
          "end_time": "2018-08-25T19:20:43.404057Z",
          "start_time": "2018-08-25T19:20:43.389094Z"
        },
        "id": "eFdo-OucOWy_",
        "colab_type": "code",
        "colab": {
          "base_uri": "https://localhost:8080/",
          "height": 87
        },
        "outputId": "a0a7f812-22cd-4533-a79d-88d51622d81f"
      },
      "cell_type": "code",
      "source": [
        "# Remove the stopwords\n",
        "nltk.download('stopwords')\n",
        "stopwords = nltk.corpus.stopwords.words('english')\n",
        "print(stopwords)"
      ],
      "execution_count": 13,
      "outputs": [
        {
          "output_type": "stream",
          "text": [
            "[nltk_data] Downloading package stopwords to /root/nltk_data...\n",
            "[nltk_data]   Unzipping corpora/stopwords.zip.\n",
            "['i', 'me', 'my', 'myself', 'we', 'our', 'ours', 'ourselves', 'you', \"you're\", \"you've\", \"you'll\", \"you'd\", 'your', 'yours', 'yourself', 'yourselves', 'he', 'him', 'his', 'himself', 'she', \"she's\", 'her', 'hers', 'herself', 'it', \"it's\", 'its', 'itself', 'they', 'them', 'their', 'theirs', 'themselves', 'what', 'which', 'who', 'whom', 'this', 'that', \"that'll\", 'these', 'those', 'am', 'is', 'are', 'was', 'were', 'be', 'been', 'being', 'have', 'has', 'had', 'having', 'do', 'does', 'did', 'doing', 'a', 'an', 'the', 'and', 'but', 'if', 'or', 'because', 'as', 'until', 'while', 'of', 'at', 'by', 'for', 'with', 'about', 'against', 'between', 'into', 'through', 'during', 'before', 'after', 'above', 'below', 'to', 'from', 'up', 'down', 'in', 'out', 'on', 'off', 'over', 'under', 'again', 'further', 'then', 'once', 'here', 'there', 'when', 'where', 'why', 'how', 'all', 'any', 'both', 'each', 'few', 'more', 'most', 'other', 'some', 'such', 'no', 'nor', 'not', 'only', 'own', 'same', 'so', 'than', 'too', 'very', 's', 't', 'can', 'will', 'just', 'don', \"don't\", 'should', \"should've\", 'now', 'd', 'll', 'm', 'o', 're', 've', 'y', 'ain', 'aren', \"aren't\", 'couldn', \"couldn't\", 'didn', \"didn't\", 'doesn', \"doesn't\", 'hadn', \"hadn't\", 'hasn', \"hasn't\", 'haven', \"haven't\", 'isn', \"isn't\", 'ma', 'mightn', \"mightn't\", 'mustn', \"mustn't\", 'needn', \"needn't\", 'shan', \"shan't\", 'shouldn', \"shouldn't\", 'wasn', \"wasn't\", 'weren', \"weren't\", 'won', \"won't\", 'wouldn', \"wouldn't\"]\n"
          ],
          "name": "stdout"
        }
      ]
    },
    {
      "metadata": {
        "ExecuteTime": {
          "end_time": "2018-08-25T19:20:43.420033Z",
          "start_time": "2018-08-25T19:20:43.409039Z"
        },
        "scrolled": false,
        "id": "AyKns3OROWzE",
        "colab_type": "code",
        "colab": {
          "base_uri": "https://localhost:8080/",
          "height": 70
        },
        "outputId": "a05f3d6b-5dbe-4451-d3a1-46bb9fb7fd96"
      },
      "cell_type": "code",
      "source": [
        "words_no_stopwords = [word for word in words_lower if word not in stopwords]\n",
        "print(len(words_no_stopwords))\n",
        "print(words_no_stopwords[:100])"
      ],
      "execution_count": 14,
      "outputs": [
        {
          "output_type": "stream",
          "text": [
            "2299\n",
            "['php', 'hypertext', 'preprocessor', 'downloads', 'documentation', 'get', 'involved', 'help', 'getting', 'started', 'introduction', 'simple', 'tutorial', 'language', 'reference', 'basic', 'syntax', 'types', 'variables', 'constants', 'expressions', 'operators', 'control', 'structures', 'functions', 'classes', 'objects', 'namespaces', 'errors', 'exceptions', 'generators', 'references', 'explained', 'predefined', 'variables', 'predefined', 'exceptions', 'predefined', 'interfaces', 'classes', 'context', 'options', 'parameters', 'supported', 'protocols', 'wrappers', 'security', 'introduction', 'general', 'considerations', 'installed', 'cgi', 'binary', 'installed', 'apache', 'module', 'session', 'security', 'filesystem', 'security', 'database', 'security', 'error', 'reporting', 'using', 'register', 'globals', 'user', 'submitted', 'data', 'magic', 'quotes', 'hiding', 'php', 'keeping', 'current', 'features', 'http', 'authentication', 'php', 'cookies', 'sessions', 'dealing', 'xforms', 'handling', 'file', 'uploads', 'using', 'remote', 'files', 'connection', 'handling', 'persistent', 'database', 'connections', 'safe', 'mode', 'command', 'line', 'usage']\n"
          ],
          "name": "stdout"
        }
      ]
    },
    {
      "metadata": {
        "ExecuteTime": {
          "end_time": "2018-08-25T17:48:42.458611Z",
          "start_time": "2018-08-25T17:48:42.453952Z"
        },
        "id": "nJqvNLZLOWzH",
        "colab_type": "text"
      },
      "cell_type": "markdown",
      "source": [
        "# Further Cleaning Using NLTK- Lemmatize"
      ]
    },
    {
      "metadata": {
        "ExecuteTime": {
          "end_time": "2018-08-25T19:20:45.340902Z",
          "start_time": "2018-08-25T19:20:43.423997Z"
        },
        "scrolled": false,
        "id": "0zOefyhOOWzI",
        "colab_type": "code",
        "colab": {
          "base_uri": "https://localhost:8080/",
          "height": 104
        },
        "outputId": "78d87496-b323-45df-ae56-d8044a3f3544"
      },
      "cell_type": "code",
      "source": [
        "nltk.download('wordnet')\n",
        "from nltk.stem.wordnet import WordNetLemmatizer\n",
        "lemmatizer = WordNetLemmatizer()\n",
        "words_lemmatized = [lemmatizer.lemmatize(word) for word in words_no_stopwords]\n",
        "print(len(words_lemmatized))\n",
        "print(words_lemmatized[:100])"
      ],
      "execution_count": 19,
      "outputs": [
        {
          "output_type": "stream",
          "text": [
            "[nltk_data] Downloading package wordnet to /root/nltk_data...\n",
            "[nltk_data]   Package wordnet is already up-to-date!\n",
            "2299\n",
            "['php', 'hypertext', 'preprocessor', 'downloads', 'documentation', 'get', 'involved', 'help', 'getting', 'started', 'introduction', 'simple', 'tutorial', 'language', 'reference', 'basic', 'syntax', 'type', 'variable', 'constant', 'expression', 'operator', 'control', 'structure', 'function', 'class', 'object', 'namespaces', 'error', 'exception', 'generator', 'reference', 'explained', 'predefined', 'variable', 'predefined', 'exception', 'predefined', 'interface', 'class', 'context', 'option', 'parameter', 'supported', 'protocol', 'wrapper', 'security', 'introduction', 'general', 'consideration', 'installed', 'cgi', 'binary', 'installed', 'apache', 'module', 'session', 'security', 'filesystem', 'security', 'database', 'security', 'error', 'reporting', 'using', 'register', 'globals', 'user', 'submitted', 'data', 'magic', 'quote', 'hiding', 'php', 'keeping', 'current', 'feature', 'http', 'authentication', 'php', 'cooky', 'session', 'dealing', 'xforms', 'handling', 'file', 'uploads', 'using', 'remote', 'file', 'connection', 'handling', 'persistent', 'database', 'connection', 'safe', 'mode', 'command', 'line', 'usage']\n"
          ],
          "name": "stdout"
        }
      ]
    },
    {
      "metadata": {
        "id": "-zXrbMCeOWzL",
        "colab_type": "text"
      },
      "cell_type": "markdown",
      "source": [
        "## Calculate the Frequency of Words"
      ]
    },
    {
      "metadata": {
        "ExecuteTime": {
          "end_time": "2018-08-25T19:20:45.351847Z",
          "start_time": "2018-08-25T19:20:45.343867Z"
        },
        "id": "yH7FJuqkOWzM",
        "colab_type": "code",
        "colab": {
          "base_uri": "https://localhost:8080/",
          "height": 70
        },
        "outputId": "ac288ca7-8e41-4cdd-fb06-ff4eac72f410"
      },
      "cell_type": "code",
      "source": [
        "lemmatized_words_freqdist =  nltk.FreqDist(words_lemmatized)\n",
        "print(len(lemmatized_words_freqdist))\n",
        "print(lemmatized_words_freqdist.items())"
      ],
      "execution_count": 20,
      "outputs": [
        {
          "output_type": "stream",
          "text": [
            "307\n",
            "dict_items([('php', 225), ('hypertext', 1), ('preprocessor', 1), ('downloads', 33), ('documentation', 1), ('get', 1), ('involved', 1), ('help', 2), ('getting', 1), ('started', 1), ('introduction', 2), ('simple', 1), ('tutorial', 1), ('language', 3), ('reference', 3), ('basic', 2), ('syntax', 1), ('type', 2), ('variable', 3), ('constant', 1), ('expression', 1), ('operator', 1), ('control', 2), ('structure', 1), ('function', 2), ('class', 2), ('object', 1), ('namespaces', 1), ('error', 2), ('exception', 2), ('generator', 1), ('explained', 1), ('predefined', 3), ('interface', 1), ('context', 1), ('option', 1), ('parameter', 1), ('supported', 1), ('protocol', 1), ('wrapper', 1), ('security', 13), ('general', 2), ('consideration', 1), ('installed', 2), ('cgi', 1), ('binary', 25), ('apache', 1), ('module', 1), ('session', 3), ('filesystem', 1), ('database', 3), ('reporting', 14), ('using', 2), ('register', 1), ('globals', 1), ('user', 14), ('submitted', 1), ('data', 1), ('magic', 1), ('quote', 1), ('hiding', 1), ('keeping', 1), ('current', 2), ('feature', 19), ('http', 1), ('authentication', 2), ('cooky', 1), ('dealing', 1), ('xforms', 1), ('handling', 2), ('file', 65), ('uploads', 1), ('remote', 1), ('connection', 2), ('persistent', 1), ('safe', 1), ('mode', 1), ('command', 2), ('line', 2), ('usage', 1), ('garbage', 1), ('collection', 1), ('dtrace', 1), ('dynamic', 1), ('tracing', 1), ('affecting', 1), ('behaviour', 1), ('audio', 1), ('format', 1), ('manipulation', 2), ('service', 3), ('specific', 2), ('extension', 16), ('compression', 1), ('archive', 19), ('credit', 1), ('card', 1), ('processing', 3), ('cryptography', 1), ('date', 1), ('time', 3), ('related', 5), ('system', 19), ('human', 1), ('character', 1), ('encoding', 1), ('support', 3), ('image', 1), ('generation', 1), ('mail', 1), ('mathematical', 1), ('non', 1), ('text', 2), ('mime', 1), ('output', 1), ('process', 1), ('search', 3), ('engine', 1), ('server', 1), ('web', 2), ('window', 49), ('xml', 1), ('gui', 1), ('keyboard', 1), ('shortcut', 1), ('j', 1), ('next', 22), ('menu', 2), ('item', 2), ('k', 1), ('previous', 2), ('g', 7), ('p', 1), ('man', 2), ('page', 28), ('n', 1), ('scroll', 2), ('bottom', 1), ('top', 1), ('h', 1), ('goto', 2), ('homepage', 1), ('focus', 1), ('box', 1), ('popular', 2), ('purpose', 1), ('scripting', 1), ('especially', 1), ('suited', 1), ('development', 30), ('fast', 1), ('flexible', 1), ('pragmatic', 1), ('power', 1), ('everything', 1), ('blog', 1), ('website', 1), ('world', 1), ('download', 26), ('release', 114), ('note', 24), ('upgrading', 48), ('jan', 4), ('released', 27), ('team', 25), ('announces', 12), ('immediate', 12), ('availability', 12), ('several', 5), ('bug', 28), ('fixed', 2), ('encouraged', 12), ('upgrade', 9), ('version', 36), ('source', 49), ('please', 41), ('visit', 25), ('found', 68), ('net', 26), ('list', 30), ('change', 33), ('recorded', 7), ('changelog', 7), ('according', 2), ('timeline', 2), ('last', 3), ('scheduled', 2), ('branch', 4), ('may', 4), ('additional', 2), ('discover', 2), ('important', 2), ('issue', 16), ('warrant', 2), ('otherwise', 2), ('final', 3), ('one', 2), ('installation', 2), ('based', 2), ('good', 2), ('start', 3), ('making', 2), ('plan', 2), ('announcement', 1), ('also', 26), ('contains', 4), ('fix', 5), ('minor', 1), ('dec', 2), ('five', 1), ('nov', 2), ('rc', 26), ('glad', 13), ('announce', 13), ('presumably', 1), ('pre', 6), ('rough', 13), ('outline', 13), ('cycle', 13), ('specified', 13), ('wiki', 18), ('qa', 30), ('carefully', 18), ('test', 19), ('report', 18), ('preview', 17), ('use', 18), ('production', 18), ('information', 18), ('new', 18), ('read', 23), ('news', 19), ('complete', 18), ('internal', 8), ('listed', 8), ('internals', 8), ('would', 13), ('ga', 1), ('planned', 18), ('december', 1), ('th', 14), ('signature', 13), ('manifest', 13), ('site', 15), ('thank', 18), ('helping', 18), ('u', 18), ('make', 18), ('better', 18), ('november', 2), ('nd', 2), ('oct', 3), ('october', 4), ('sep', 3), ('september', 3), ('aug', 5), ('beta', 18), ('seventh', 1), ('sixth', 1), ('august', 4), ('fifth', 1), ('jul', 3), ('alpha', 18), ('fourth', 2), ('third', 3), ('july', 3), ('jun', 2), ('second', 2), ('first', 4), ('early', 1), ('june', 1), ('feb', 1), ('bugfix', 1), ('included', 1), ('candidate', 14), ('incompatibility', 5), ('tracking', 5), ('announced', 2), ('full', 5), ('improvement', 1), ('relative', 1), ('older', 1), ('entry', 1), ('upcoming', 1), ('conferencessunshinephp', 1), ('dutch', 2), ('conference', 5), ('international', 1), ('spring', 1), ('edition', 1), ('calling', 1), ('papersphpkonf', 1), ('istanbul', 1), ('cfp', 1), ('open', 1), ('group', 2), ('event', 1), ('special', 1), ('thanks', 1), ('social', 1), ('medium', 1), ('official', 1), ('copyright', 1), ('contact', 1), ('mirror', 1), ('privacy', 1), ('policy', 1)])\n"
          ],
          "name": "stdout"
        }
      ]
    },
    {
      "metadata": {
        "ExecuteTime": {
          "end_time": "2018-08-25T19:20:45.366818Z",
          "start_time": "2018-08-25T19:20:45.354837Z"
        },
        "id": "d9_eNwWIOWzQ",
        "colab_type": "code",
        "colab": {
          "base_uri": "https://localhost:8080/",
          "height": 54
        },
        "outputId": "354d6139-a938-451a-ef8b-e397d337d33b"
      },
      "cell_type": "code",
      "source": [
        "print(lemmatized_words_freqdist.most_common(50))"
      ],
      "execution_count": 21,
      "outputs": [
        {
          "output_type": "stream",
          "text": [
            "[('php', 225), ('release', 114), ('found', 68), ('file', 65), ('window', 49), ('source', 49), ('upgrading', 48), ('please', 41), ('version', 36), ('downloads', 33), ('change', 33), ('development', 30), ('list', 30), ('qa', 30), ('page', 28), ('bug', 28), ('released', 27), ('download', 26), ('net', 26), ('also', 26), ('rc', 26), ('binary', 25), ('team', 25), ('visit', 25), ('note', 24), ('read', 23), ('next', 22), ('feature', 19), ('archive', 19), ('system', 19), ('test', 19), ('news', 19), ('wiki', 18), ('carefully', 18), ('report', 18), ('use', 18), ('production', 18), ('information', 18), ('new', 18), ('complete', 18), ('planned', 18), ('thank', 18), ('helping', 18), ('u', 18), ('make', 18), ('better', 18), ('beta', 18), ('alpha', 18), ('preview', 17), ('extension', 16)]\n"
          ],
          "name": "stdout"
        }
      ]
    },
    {
      "metadata": {
        "ExecuteTime": {
          "end_time": "2018-08-25T19:20:45.703904Z",
          "start_time": "2018-08-25T19:20:45.373800Z"
        },
        "id": "ucTc9rqDOWzS",
        "colab_type": "code",
        "colab": {
          "base_uri": "https://localhost:8080/",
          "height": 381
        },
        "outputId": "247ffc66-15d3-4f37-a018-e445b8871444"
      },
      "cell_type": "code",
      "source": [
        "plt.figure(figsize=(20,5))\n",
        "lemmatized_words_freqdist.plot(len(lemmatized_words_freqdist.most_common(50)))\n",
        "plt.show()"
      ],
      "execution_count": 22,
      "outputs": [
        {
          "output_type": "display_data",
          "data": {
            "image/png": "[encoded data removed]",
            "text/plain": [
              "<matplotlib.figure.Figure at 0x7f07d9c30e48>"
            ]
          },
          "metadata": {
            "tags": []
          }
        }
      ]
    },
    {
      "metadata": {
        "id": "78w8HNC1OWzW",
        "colab_type": "text"
      },
      "cell_type": "markdown",
      "source": [
        "## Convert Lemmatized Words FreqDist Object into a Dictionary  "
      ]
    },
    {
      "metadata": {
        "ExecuteTime": {
          "end_time": "2018-08-25T19:20:45.712883Z",
          "start_time": "2018-08-25T19:20:45.706925Z"
        },
        "id": "BnMjSg4DOWzW",
        "colab_type": "code",
        "colab": {
          "base_uri": "https://localhost:8080/",
          "height": 70
        },
        "outputId": "586a43ca-987d-4313-96b1-32dbb05d7f0b"
      },
      "cell_type": "code",
      "source": [
        "lemmatized_words_freq_dict =  dict(lemmatized_words_freqdist)\n",
        "print(len(lemmatized_words_freq_dict))\n",
        "print(lemmatized_words_freq_dict)"
      ],
      "execution_count": 23,
      "outputs": [
        {
          "output_type": "stream",
          "text": [
            "307\n",
            "{'php': 225, 'hypertext': 1, 'preprocessor': 1, 'downloads': 33, 'documentation': 1, 'get': 1, 'involved': 1, 'help': 2, 'getting': 1, 'started': 1, 'introduction': 2, 'simple': 1, 'tutorial': 1, 'language': 3, 'reference': 3, 'basic': 2, 'syntax': 1, 'type': 2, 'variable': 3, 'constant': 1, 'expression': 1, 'operator': 1, 'control': 2, 'structure': 1, 'function': 2, 'class': 2, 'object': 1, 'namespaces': 1, 'error': 2, 'exception': 2, 'generator': 1, 'explained': 1, 'predefined': 3, 'interface': 1, 'context': 1, 'option': 1, 'parameter': 1, 'supported': 1, 'protocol': 1, 'wrapper': 1, 'security': 13, 'general': 2, 'consideration': 1, 'installed': 2, 'cgi': 1, 'binary': 25, 'apache': 1, 'module': 1, 'session': 3, 'filesystem': 1, 'database': 3, 'reporting': 14, 'using': 2, 'register': 1, 'globals': 1, 'user': 14, 'submitted': 1, 'data': 1, 'magic': 1, 'quote': 1, 'hiding': 1, 'keeping': 1, 'current': 2, 'feature': 19, 'http': 1, 'authentication': 2, 'cooky': 1, 'dealing': 1, 'xforms': 1, 'handling': 2, 'file': 65, 'uploads': 1, 'remote': 1, 'connection': 2, 'persistent': 1, 'safe': 1, 'mode': 1, 'command': 2, 'line': 2, 'usage': 1, 'garbage': 1, 'collection': 1, 'dtrace': 1, 'dynamic': 1, 'tracing': 1, 'affecting': 1, 'behaviour': 1, 'audio': 1, 'format': 1, 'manipulation': 2, 'service': 3, 'specific': 2, 'extension': 16, 'compression': 1, 'archive': 19, 'credit': 1, 'card': 1, 'processing': 3, 'cryptography': 1, 'date': 1, 'time': 3, 'related': 5, 'system': 19, 'human': 1, 'character': 1, 'encoding': 1, 'support': 3, 'image': 1, 'generation': 1, 'mail': 1, 'mathematical': 1, 'non': 1, 'text': 2, 'mime': 1, 'output': 1, 'process': 1, 'search': 3, 'engine': 1, 'server': 1, 'web': 2, 'window': 49, 'xml': 1, 'gui': 1, 'keyboard': 1, 'shortcut': 1, 'j': 1, 'next': 22, 'menu': 2, 'item': 2, 'k': 1, 'previous': 2, 'g': 7, 'p': 1, 'man': 2, 'page': 28, 'n': 1, 'scroll': 2, 'bottom': 1, 'top': 1, 'h': 1, 'goto': 2, 'homepage': 1, 'focus': 1, 'box': 1, 'popular': 2, 'purpose': 1, 'scripting': 1, 'especially': 1, 'suited': 1, 'development': 30, 'fast': 1, 'flexible': 1, 'pragmatic': 1, 'power': 1, 'everything': 1, 'blog': 1, 'website': 1, 'world': 1, 'download': 26, 'release': 114, 'note': 24, 'upgrading': 48, 'jan': 4, 'released': 27, 'team': 25, 'announces': 12, 'immediate': 12, 'availability': 12, 'several': 5, 'bug': 28, 'fixed': 2, 'encouraged': 12, 'upgrade': 9, 'version': 36, 'source': 49, 'please': 41, 'visit': 25, 'found': 68, 'net': 26, 'list': 30, 'change': 33, 'recorded': 7, 'changelog': 7, 'according': 2, 'timeline': 2, 'last': 3, 'scheduled': 2, 'branch': 4, 'may': 4, 'additional': 2, 'discover': 2, 'important': 2, 'issue': 16, 'warrant': 2, 'otherwise': 2, 'final': 3, 'one': 2, 'installation': 2, 'based': 2, 'good': 2, 'start': 3, 'making': 2, 'plan': 2, 'announcement': 1, 'also': 26, 'contains': 4, 'fix': 5, 'minor': 1, 'dec': 2, 'five': 1, 'nov': 2, 'rc': 26, 'glad': 13, 'announce': 13, 'presumably': 1, 'pre': 6, 'rough': 13, 'outline': 13, 'cycle': 13, 'specified': 13, 'wiki': 18, 'qa': 30, 'carefully': 18, 'test': 19, 'report': 18, 'preview': 17, 'use': 18, 'production': 18, 'information': 18, 'new': 18, 'read': 23, 'news': 19, 'complete': 18, 'internal': 8, 'listed': 8, 'internals': 8, 'would': 13, 'ga': 1, 'planned': 18, 'december': 1, 'th': 14, 'signature': 13, 'manifest': 13, 'site': 15, 'thank': 18, 'helping': 18, 'u': 18, 'make': 18, 'better': 18, 'november': 2, 'nd': 2, 'oct': 3, 'october': 4, 'sep': 3, 'september': 3, 'aug': 5, 'beta': 18, 'seventh': 1, 'sixth': 1, 'august': 4, 'fifth': 1, 'jul': 3, 'alpha': 18, 'fourth': 2, 'third': 3, 'july': 3, 'jun': 2, 'second': 2, 'first': 4, 'early': 1, 'june': 1, 'feb': 1, 'bugfix': 1, 'included': 1, 'candidate': 14, 'incompatibility': 5, 'tracking': 5, 'announced': 2, 'full': 5, 'improvement': 1, 'relative': 1, 'older': 1, 'entry': 1, 'upcoming': 1, 'conferencessunshinephp': 1, 'dutch': 2, 'conference': 5, 'international': 1, 'spring': 1, 'edition': 1, 'calling': 1, 'papersphpkonf': 1, 'istanbul': 1, 'cfp': 1, 'open': 1, 'group': 2, 'event': 1, 'special': 1, 'thanks': 1, 'social': 1, 'medium': 1, 'official': 1, 'copyright': 1, 'contact': 1, 'mirror': 1, 'privacy': 1, 'policy': 1}\n"
          ],
          "name": "stdout"
        }
      ]
    },
    {
      "metadata": {
        "id": "AV_K5qpzOWzZ",
        "colab_type": "text"
      },
      "cell_type": "markdown",
      "source": [
        "# Further Cleaning Using NLTK- Stem (From Word List after removing Stopwords)"
      ]
    },
    {
      "metadata": {
        "ExecuteTime": {
          "end_time": "2018-08-25T19:20:45.750779Z",
          "start_time": "2018-08-25T19:20:45.716871Z"
        },
        "id": "DY98YBrtOWzZ",
        "colab_type": "code",
        "colab": {
          "base_uri": "https://localhost:8080/",
          "height": 70
        },
        "outputId": "a6b7056b-5bb8-40b7-d22d-75c7ba75e8cb"
      },
      "cell_type": "code",
      "source": [
        "# Snowball Stemmer\n",
        "from nltk.stem import SnowballStemmer\n",
        "stemmer = SnowballStemmer('english')\n",
        "words_stemmed = [stemmer.stem(word) for word in words_no_stopwords]\n",
        "print(len(words_stemmed))\n",
        "print(words_stemmed[:100])"
      ],
      "execution_count": 24,
      "outputs": [
        {
          "output_type": "stream",
          "text": [
            "2299\n",
            "['php', 'hypertext', 'preprocessor', 'download', 'document', 'get', 'involv', 'help', 'get', 'start', 'introduct', 'simpl', 'tutori', 'languag', 'refer', 'basic', 'syntax', 'type', 'variabl', 'constant', 'express', 'oper', 'control', 'structur', 'function', 'class', 'object', 'namespac', 'error', 'except', 'generat', 'refer', 'explain', 'predefin', 'variabl', 'predefin', 'except', 'predefin', 'interfac', 'class', 'context', 'option', 'paramet', 'support', 'protocol', 'wrapper', 'secur', 'introduct', 'general', 'consider', 'instal', 'cgi', 'binari', 'instal', 'apach', 'modul', 'session', 'secur', 'filesystem', 'secur', 'databas', 'secur', 'error', 'report', 'use', 'regist', 'global', 'user', 'submit', 'data', 'magic', 'quot', 'hide', 'php', 'keep', 'current', 'featur', 'http', 'authent', 'php', 'cooki', 'session', 'deal', 'xform', 'handl', 'file', 'upload', 'use', 'remot', 'file', 'connect', 'handl', 'persist', 'databas', 'connect', 'safe', 'mode', 'command', 'line', 'usag']\n"
          ],
          "name": "stdout"
        }
      ]
    },
    {
      "metadata": {
        "id": "TzKD3eJWOWzc",
        "colab_type": "text"
      },
      "cell_type": "markdown",
      "source": [
        "## Calculate the Frequency of Words"
      ]
    },
    {
      "metadata": {
        "ExecuteTime": {
          "end_time": "2018-08-25T19:20:45.764743Z",
          "start_time": "2018-08-25T19:20:45.756773Z"
        },
        "id": "xBQayP2JOWzd",
        "colab_type": "code",
        "colab": {
          "base_uri": "https://localhost:8080/",
          "height": 70
        },
        "outputId": "f4c094db-d340-4697-fb99-4a5f4e5cf80e"
      },
      "cell_type": "code",
      "source": [
        "stemmed_words_freqdist =  nltk.FreqDist(words_stemmed)\n",
        "print(len(stemmed_words_freqdist))\n",
        "print(stemmed_words_freqdist.items())"
      ],
      "execution_count": 25,
      "outputs": [
        {
          "output_type": "stream",
          "text": [
            "284\n",
            "dict_items([('php', 225), ('hypertext', 1), ('preprocessor', 1), ('download', 59), ('document', 1), ('get', 2), ('involv', 1), ('help', 20), ('start', 4), ('introduct', 2), ('simpl', 1), ('tutori', 1), ('languag', 3), ('refer', 3), ('basic', 2), ('syntax', 1), ('type', 2), ('variabl', 3), ('constant', 1), ('express', 1), ('oper', 1), ('control', 2), ('structur', 1), ('function', 2), ('class', 2), ('object', 1), ('namespac', 1), ('error', 2), ('except', 2), ('generat', 2), ('explain', 1), ('predefin', 3), ('interfac', 1), ('context', 1), ('option', 1), ('paramet', 1), ('support', 4), ('protocol', 1), ('wrapper', 1), ('secur', 13), ('general', 2), ('consider', 1), ('instal', 4), ('cgi', 1), ('binari', 25), ('apach', 1), ('modul', 1), ('session', 3), ('filesystem', 1), ('databas', 3), ('report', 32), ('use', 20), ('regist', 1), ('global', 1), ('user', 14), ('submit', 1), ('data', 1), ('magic', 1), ('quot', 1), ('hide', 1), ('keep', 1), ('current', 2), ('featur', 19), ('http', 1), ('authent', 2), ('cooki', 1), ('deal', 1), ('xform', 1), ('handl', 2), ('file', 65), ('upload', 1), ('remot', 1), ('connect', 2), ('persist', 1), ('safe', 1), ('mode', 1), ('command', 2), ('line', 2), ('usag', 1), ('garbag', 1), ('collect', 1), ('dtrace', 1), ('dynam', 1), ('trace', 1), ('affect', 1), ('behaviour', 1), ('audio', 1), ('format', 1), ('manipul', 2), ('servic', 3), ('specif', 2), ('extens', 16), ('compress', 1), ('archiv', 19), ('credit', 1), ('card', 1), ('process', 4), ('cryptographi', 1), ('date', 1), ('time', 3), ('relat', 6), ('system', 19), ('human', 1), ('charact', 1), ('encod', 1), ('imag', 1), ('mail', 1), ('mathemat', 1), ('non', 1), ('text', 2), ('mime', 1), ('output', 1), ('search', 3), ('engin', 1), ('server', 1), ('web', 2), ('window', 49), ('xml', 1), ('gui', 1), ('keyboard', 1), ('shortcut', 1), ('j', 1), ('next', 22), ('menu', 2), ('item', 2), ('k', 1), ('previous', 2), ('g', 7), ('p', 1), ('man', 2), ('page', 28), ('n', 1), ('scroll', 2), ('bottom', 1), ('top', 1), ('h', 1), ('goto', 2), ('homepag', 1), ('focus', 1), ('box', 1), ('popular', 2), ('purpos', 1), ('script', 1), ('especi', 1), ('suit', 1), ('develop', 30), ('fast', 1), ('flexibl', 1), ('pragmat', 1), ('power', 1), ('everyth', 1), ('blog', 1), ('websit', 1), ('world', 1), ('releas', 141), ('note', 24), ('upgrad', 57), ('jan', 4), ('team', 25), ('announc', 28), ('immedi', 12), ('avail', 12), ('sever', 5), ('bug', 28), ('fix', 7), ('encourag', 12), ('version', 36), ('sourc', 49), ('pleas', 41), ('visit', 25), ('found', 68), ('net', 26), ('list', 38), ('chang', 33), ('record', 7), ('changelog', 7), ('accord', 2), ('timelin', 2), ('last', 3), ('schedul', 2), ('branch', 4), ('may', 4), ('addit', 2), ('discov', 2), ('import', 2), ('issu', 16), ('warrant', 2), ('otherwis', 2), ('final', 3), ('one', 2), ('base', 2), ('good', 2), ('make', 20), ('plan', 20), ('also', 26), ('contain', 4), ('minor', 1), ('dec', 2), ('five', 1), ('nov', 2), ('rc', 26), ('glad', 13), ('presum', 1), ('pre', 6), ('rough', 13), ('outlin', 13), ('cycl', 13), ('specifi', 13), ('wiki', 18), ('qa', 30), ('care', 18), ('test', 19), ('preview', 17), ('product', 18), ('inform', 18), ('new', 18), ('read', 23), ('news', 19), ('complet', 18), ('intern', 17), ('would', 13), ('ga', 1), ('decemb', 1), ('th', 14), ('signatur', 13), ('manifest', 13), ('site', 15), ('thank', 19), ('us', 18), ('better', 18), ('novemb', 2), ('nd', 2), ('oct', 3), ('octob', 4), ('sep', 3), ('septemb', 3), ('aug', 5), ('beta', 18), ('seventh', 1), ('sixth', 1), ('august', 4), ('fifth', 1), ('jul', 3), ('alpha', 18), ('fourth', 2), ('third', 3), ('juli', 3), ('jun', 2), ('second', 2), ('first', 4), ('earli', 1), ('june', 1), ('feb', 1), ('bugfix', 1), ('includ', 1), ('candid', 14), ('incompat', 5), ('track', 5), ('full', 5), ('improv', 1), ('older', 1), ('entri', 1), ('upcom', 1), ('conferencessunshinephp', 1), ('dutch', 2), ('confer', 5), ('spring', 1), ('edit', 1), ('call', 1), ('papersphpkonf', 1), ('istanbul', 1), ('cfp', 1), ('open', 1), ('group', 2), ('event', 1), ('special', 1), ('social', 1), ('media', 1), ('offici', 1), ('copyright', 1), ('contact', 1), ('mirror', 1), ('privaci', 1), ('polici', 1)])\n"
          ],
          "name": "stdout"
        }
      ]
    },
    {
      "metadata": {
        "ExecuteTime": {
          "end_time": "2018-08-25T19:20:45.781697Z",
          "start_time": "2018-08-25T19:20:45.768734Z"
        },
        "id": "Tfe8hBBVOWzg",
        "colab_type": "code",
        "colab": {
          "base_uri": "https://localhost:8080/",
          "height": 54
        },
        "outputId": "878bd0a7-554b-4a98-f705-20092c8154fc"
      },
      "cell_type": "code",
      "source": [
        "print(stemmed_words_freqdist.most_common(50))"
      ],
      "execution_count": 26,
      "outputs": [
        {
          "output_type": "stream",
          "text": [
            "[('php', 225), ('releas', 141), ('found', 68), ('file', 65), ('download', 59), ('upgrad', 57), ('window', 49), ('sourc', 49), ('pleas', 41), ('list', 38), ('version', 36), ('chang', 33), ('report', 32), ('develop', 30), ('qa', 30), ('page', 28), ('announc', 28), ('bug', 28), ('net', 26), ('also', 26), ('rc', 26), ('binari', 25), ('team', 25), ('visit', 25), ('note', 24), ('read', 23), ('next', 22), ('help', 20), ('use', 20), ('make', 20), ('plan', 20), ('featur', 19), ('archiv', 19), ('system', 19), ('test', 19), ('news', 19), ('thank', 19), ('wiki', 18), ('care', 18), ('product', 18), ('inform', 18), ('new', 18), ('complet', 18), ('us', 18), ('better', 18), ('beta', 18), ('alpha', 18), ('preview', 17), ('intern', 17), ('extens', 16)]\n"
          ],
          "name": "stdout"
        }
      ]
    },
    {
      "metadata": {
        "ExecuteTime": {
          "end_time": "2018-08-25T19:20:46.102866Z",
          "start_time": "2018-08-25T19:20:45.787681Z"
        },
        "id": "jpbCJK9XOWzk",
        "colab_type": "code",
        "colab": {
          "base_uri": "https://localhost:8080/",
          "height": 366
        },
        "outputId": "9b176dea-bade-4da0-fb3d-b11cf31f298d"
      },
      "cell_type": "code",
      "source": [
        "import matplotlib.pyplot as plt\n",
        "plt.figure(figsize=(20,5))\n",
        "stemmed_words_freqdist.plot(len(stemmed_words_freqdist.most_common(50)))\n",
        "plt.show()"
      ],
      "execution_count": 27,
      "outputs": [
        {
          "output_type": "display_data",
          "data": {
            "image/png": "[encoded data removed]",
            "text/plain": [
              "<matplotlib.figure.Figure at 0x7f07d5983c88>"
            ]
          },
          "metadata": {
            "tags": []
          }
        }
      ]
    },
    {
      "metadata": {
        "id": "dpcAzwRlOWzn",
        "colab_type": "text"
      },
      "cell_type": "markdown",
      "source": [
        "## Convert Stemmed Words FreqDist Object into a Dictionary  "
      ]
    },
    {
      "metadata": {
        "ExecuteTime": {
          "end_time": "2018-08-25T19:20:46.110819Z",
          "start_time": "2018-08-25T19:20:46.104833Z"
        },
        "id": "t48qq6XQOWzn",
        "colab_type": "code",
        "colab": {
          "base_uri": "https://localhost:8080/",
          "height": 70
        },
        "outputId": "44115d6a-8815-4fe7-f08f-401e02f4c8c0"
      },
      "cell_type": "code",
      "source": [
        "stemmed_words_freq_dict =  dict(stemmed_words_freqdist)\n",
        "print(len(stemmed_words_freq_dict))\n",
        "print(stemmed_words_freq_dict)"
      ],
      "execution_count": 28,
      "outputs": [
        {
          "output_type": "stream",
          "text": [
            "284\n",
            "{'php': 225, 'hypertext': 1, 'preprocessor': 1, 'download': 59, 'document': 1, 'get': 2, 'involv': 1, 'help': 20, 'start': 4, 'introduct': 2, 'simpl': 1, 'tutori': 1, 'languag': 3, 'refer': 3, 'basic': 2, 'syntax': 1, 'type': 2, 'variabl': 3, 'constant': 1, 'express': 1, 'oper': 1, 'control': 2, 'structur': 1, 'function': 2, 'class': 2, 'object': 1, 'namespac': 1, 'error': 2, 'except': 2, 'generat': 2, 'explain': 1, 'predefin': 3, 'interfac': 1, 'context': 1, 'option': 1, 'paramet': 1, 'support': 4, 'protocol': 1, 'wrapper': 1, 'secur': 13, 'general': 2, 'consider': 1, 'instal': 4, 'cgi': 1, 'binari': 25, 'apach': 1, 'modul': 1, 'session': 3, 'filesystem': 1, 'databas': 3, 'report': 32, 'use': 20, 'regist': 1, 'global': 1, 'user': 14, 'submit': 1, 'data': 1, 'magic': 1, 'quot': 1, 'hide': 1, 'keep': 1, 'current': 2, 'featur': 19, 'http': 1, 'authent': 2, 'cooki': 1, 'deal': 1, 'xform': 1, 'handl': 2, 'file': 65, 'upload': 1, 'remot': 1, 'connect': 2, 'persist': 1, 'safe': 1, 'mode': 1, 'command': 2, 'line': 2, 'usag': 1, 'garbag': 1, 'collect': 1, 'dtrace': 1, 'dynam': 1, 'trace': 1, 'affect': 1, 'behaviour': 1, 'audio': 1, 'format': 1, 'manipul': 2, 'servic': 3, 'specif': 2, 'extens': 16, 'compress': 1, 'archiv': 19, 'credit': 1, 'card': 1, 'process': 4, 'cryptographi': 1, 'date': 1, 'time': 3, 'relat': 6, 'system': 19, 'human': 1, 'charact': 1, 'encod': 1, 'imag': 1, 'mail': 1, 'mathemat': 1, 'non': 1, 'text': 2, 'mime': 1, 'output': 1, 'search': 3, 'engin': 1, 'server': 1, 'web': 2, 'window': 49, 'xml': 1, 'gui': 1, 'keyboard': 1, 'shortcut': 1, 'j': 1, 'next': 22, 'menu': 2, 'item': 2, 'k': 1, 'previous': 2, 'g': 7, 'p': 1, 'man': 2, 'page': 28, 'n': 1, 'scroll': 2, 'bottom': 1, 'top': 1, 'h': 1, 'goto': 2, 'homepag': 1, 'focus': 1, 'box': 1, 'popular': 2, 'purpos': 1, 'script': 1, 'especi': 1, 'suit': 1, 'develop': 30, 'fast': 1, 'flexibl': 1, 'pragmat': 1, 'power': 1, 'everyth': 1, 'blog': 1, 'websit': 1, 'world': 1, 'releas': 141, 'note': 24, 'upgrad': 57, 'jan': 4, 'team': 25, 'announc': 28, 'immedi': 12, 'avail': 12, 'sever': 5, 'bug': 28, 'fix': 7, 'encourag': 12, 'version': 36, 'sourc': 49, 'pleas': 41, 'visit': 25, 'found': 68, 'net': 26, 'list': 38, 'chang': 33, 'record': 7, 'changelog': 7, 'accord': 2, 'timelin': 2, 'last': 3, 'schedul': 2, 'branch': 4, 'may': 4, 'addit': 2, 'discov': 2, 'import': 2, 'issu': 16, 'warrant': 2, 'otherwis': 2, 'final': 3, 'one': 2, 'base': 2, 'good': 2, 'make': 20, 'plan': 20, 'also': 26, 'contain': 4, 'minor': 1, 'dec': 2, 'five': 1, 'nov': 2, 'rc': 26, 'glad': 13, 'presum': 1, 'pre': 6, 'rough': 13, 'outlin': 13, 'cycl': 13, 'specifi': 13, 'wiki': 18, 'qa': 30, 'care': 18, 'test': 19, 'preview': 17, 'product': 18, 'inform': 18, 'new': 18, 'read': 23, 'news': 19, 'complet': 18, 'intern': 17, 'would': 13, 'ga': 1, 'decemb': 1, 'th': 14, 'signatur': 13, 'manifest': 13, 'site': 15, 'thank': 19, 'us': 18, 'better': 18, 'novemb': 2, 'nd': 2, 'oct': 3, 'octob': 4, 'sep': 3, 'septemb': 3, 'aug': 5, 'beta': 18, 'seventh': 1, 'sixth': 1, 'august': 4, 'fifth': 1, 'jul': 3, 'alpha': 18, 'fourth': 2, 'third': 3, 'juli': 3, 'jun': 2, 'second': 2, 'first': 4, 'earli': 1, 'june': 1, 'feb': 1, 'bugfix': 1, 'includ': 1, 'candid': 14, 'incompat': 5, 'track': 5, 'full': 5, 'improv': 1, 'older': 1, 'entri': 1, 'upcom': 1, 'conferencessunshinephp': 1, 'dutch': 2, 'confer': 5, 'spring': 1, 'edit': 1, 'call': 1, 'papersphpkonf': 1, 'istanbul': 1, 'cfp': 1, 'open': 1, 'group': 2, 'event': 1, 'special': 1, 'social': 1, 'media': 1, 'offici': 1, 'copyright': 1, 'contact': 1, 'mirror': 1, 'privaci': 1, 'polici': 1}\n"
          ],
          "name": "stdout"
        }
      ]
    }
  ]
}